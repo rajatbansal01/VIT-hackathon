{
 "cells": [
  {
   "cell_type": "code",
   "execution_count": 1,
   "metadata": {
    "colab": {},
    "colab_type": "code",
    "id": "XXr4Uf2aNxYB"
   },
   "outputs": [],
   "source": [
    "!rm /content/sample_data/*\n",
    "!rmdir /content/sample_data"
   ]
  },
  {
   "cell_type": "code",
   "execution_count": 2,
   "metadata": {
    "colab": {
     "base_uri": "https://localhost:8080/",
     "height": 92,
     "resources": {
      "http://localhost:8080/nbextensions/google.colab/files.js": {
       "data": "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",
       "headers": [
        [
         "content-type",
         "application/javascript"
        ]
       ],
       "ok": true,
       "status": 200,
       "status_text": ""
      }
     }
    },
    "colab_type": "code",
    "id": "L7-kwOTMOTGa",
    "outputId": "3b803b76-3d0b-4525-b138-c272c8cb5f12"
   },
   "outputs": [
    {
     "data": {
      "text/html": [
       "\n",
       "     <input type=\"file\" id=\"files-7a6d0f8e-00ac-4e6b-b077-7d1be5821166\" name=\"files[]\" multiple disabled\n",
       "        style=\"border:none\" />\n",
       "     <output id=\"result-7a6d0f8e-00ac-4e6b-b077-7d1be5821166\">\n",
       "      Upload widget is only available when the cell has been executed in the\n",
       "      current browser session. Please rerun this cell to enable.\n",
       "      </output>\n",
       "      <script src=\"/nbextensions/google.colab/files.js\"></script> "
      ],
      "text/plain": [
       "<IPython.core.display.HTML object>"
      ]
     },
     "metadata": {
      "tags": []
     },
     "output_type": "display_data"
    },
    {
     "name": "stdout",
     "output_type": "stream",
     "text": [
      "Saving kaggle.json to kaggle.json\n",
      ".  ..  kaggle.json\n"
     ]
    }
   ],
   "source": [
    "# Everytime you will revisit the notebook after closing the session you have to upload the kaggle.json\n",
    "# in case you restart the runtime you don't need to re-upload the kaggle .json\n",
    "# nither the files that you have downloaded\n",
    "from google.colab import files\n",
    "\n",
    "files.upload() #prompt to upload kaggle.json\n",
    "!mkdir /root/.kaggle #Creating a directory to store kaggle.json\n",
    "!mv /content/kaggle.json /root/.kaggle/kaggle.json #moving kaggle.json to /root/.kaggle directory\n",
    "!ls /root/.kaggle -a #Listing the content of the /root/.kaggle directory\n",
    "!chmod 600 /root/.kaggle/kaggle.json #Changing property of file so that only i can see the key"
   ]
  },
  {
   "cell_type": "code",
   "execution_count": 3,
   "metadata": {
    "colab": {
     "base_uri": "https://localhost:8080/",
     "height": 1000
    },
    "colab_type": "code",
    "id": "uKP2eLM6Oc9_",
    "outputId": "0a00c502-4b75-438a-a61d-0bebc67f06ae"
   },
   "outputs": [
    {
     "name": "stdout",
     "output_type": "stream",
     "text": [
      "Downloading mias-mammography.zip to /content\n",
      " 98% 305M/312M [00:03<00:00, 74.2MB/s]\n",
      "100% 312M/312M [00:04<00:00, 80.9MB/s]\n",
      "Archive:  mias-mammography.zip\n",
      "  inflating: Info.txt                \n",
      "  inflating: all-mias.tar.gz         \n",
      "  inflating: all-mias/Info.txt       \n",
      "  inflating: all-mias/Licence.txt    \n",
      "  inflating: all-mias/README         \n",
      "  inflating: all-mias/mdb001.pgm     \n",
      "  inflating: all-mias/mdb002.pgm     \n",
      "  inflating: all-mias/mdb003.pgm     \n",
      "  inflating: all-mias/mdb004.pgm     \n",
      "  inflating: all-mias/mdb005.pgm     \n",
      "  inflating: all-mias/mdb006.pgm     \n",
      "  inflating: all-mias/mdb007.pgm     \n",
      "  inflating: all-mias/mdb008.pgm     \n",
      "  inflating: all-mias/mdb009.pgm     \n",
      "  inflating: all-mias/mdb010.pgm     \n",
      "  inflating: all-mias/mdb011.pgm     \n",
      "  inflating: all-mias/mdb012.pgm     \n",
      "  inflating: all-mias/mdb013.pgm     \n",
      "  inflating: all-mias/mdb014.pgm     \n",
      "  inflating: all-mias/mdb015.pgm     \n",
      "  inflating: all-mias/mdb016.pgm     \n",
      "  inflating: all-mias/mdb017.pgm     \n",
      "  inflating: all-mias/mdb018.pgm     \n",
      "  inflating: all-mias/mdb019.pgm     \n",
      "  inflating: all-mias/mdb020.pgm     \n",
      "  inflating: all-mias/mdb021.pgm     \n",
      "  inflating: all-mias/mdb022.pgm     \n",
      "  inflating: all-mias/mdb023.pgm     \n",
      "  inflating: all-mias/mdb024.pgm     \n",
      "  inflating: all-mias/mdb025.pgm     \n",
      "  inflating: all-mias/mdb026.pgm     \n",
      "  inflating: all-mias/mdb027.pgm     \n",
      "  inflating: all-mias/mdb028.pgm     \n",
      "  inflating: all-mias/mdb029.pgm     \n",
      "  inflating: all-mias/mdb030.pgm     \n",
      "  inflating: all-mias/mdb031.pgm     \n",
      "  inflating: all-mias/mdb032.pgm     \n",
      "  inflating: all-mias/mdb033.pgm     \n",
      "  inflating: all-mias/mdb034.pgm     \n",
      "  inflating: all-mias/mdb035.pgm     \n",
      "  inflating: all-mias/mdb036.pgm     \n",
      "  inflating: all-mias/mdb037.pgm     \n",
      "  inflating: all-mias/mdb038.pgm     \n",
      "  inflating: all-mias/mdb039.pgm     \n",
      "  inflating: all-mias/mdb040.pgm     \n",
      "  inflating: all-mias/mdb041.pgm     \n",
      "  inflating: all-mias/mdb042.pgm     \n",
      "  inflating: all-mias/mdb043.pgm     \n",
      "  inflating: all-mias/mdb044.pgm     \n",
      "  inflating: all-mias/mdb045.pgm     \n",
      "  inflating: all-mias/mdb046.pgm     \n",
      "  inflating: all-mias/mdb047.pgm     \n",
      "  inflating: all-mias/mdb048.pgm     \n",
      "  inflating: all-mias/mdb049.pgm     \n",
      "  inflating: all-mias/mdb050.pgm     \n",
      "  inflating: all-mias/mdb051.pgm     \n",
      "  inflating: all-mias/mdb052.pgm     \n",
      "  inflating: all-mias/mdb053.pgm     \n",
      "  inflating: all-mias/mdb054.pgm     \n",
      "  inflating: all-mias/mdb055.pgm     \n",
      "  inflating: all-mias/mdb056.pgm     \n",
      "  inflating: all-mias/mdb057.pgm     \n",
      "  inflating: all-mias/mdb058.pgm     \n",
      "  inflating: all-mias/mdb059.pgm     \n",
      "  inflating: all-mias/mdb060.pgm     \n",
      "  inflating: all-mias/mdb061.pgm     \n",
      "  inflating: all-mias/mdb062.pgm     \n",
      "  inflating: all-mias/mdb063.pgm     \n",
      "  inflating: all-mias/mdb064.pgm     \n",
      "  inflating: all-mias/mdb065.pgm     \n",
      "  inflating: all-mias/mdb066.pgm     \n",
      "  inflating: all-mias/mdb067.pgm     \n",
      "  inflating: all-mias/mdb068.pgm     \n",
      "  inflating: all-mias/mdb069.pgm     \n",
      "  inflating: all-mias/mdb070.pgm     \n",
      "  inflating: all-mias/mdb071.pgm     \n",
      "  inflating: all-mias/mdb072.pgm     \n",
      "  inflating: all-mias/mdb073.pgm     \n",
      "  inflating: all-mias/mdb074.pgm     \n",
      "  inflating: all-mias/mdb075.pgm     \n",
      "  inflating: all-mias/mdb076.pgm     \n",
      "  inflating: all-mias/mdb077.pgm     \n",
      "  inflating: all-mias/mdb078.pgm     \n",
      "  inflating: all-mias/mdb079.pgm     \n",
      "  inflating: all-mias/mdb080.pgm     \n",
      "  inflating: all-mias/mdb081.pgm     \n",
      "  inflating: all-mias/mdb082.pgm     \n",
      "  inflating: all-mias/mdb083.pgm     \n",
      "  inflating: all-mias/mdb084.pgm     \n",
      "  inflating: all-mias/mdb085.pgm     \n",
      "  inflating: all-mias/mdb086.pgm     \n",
      "  inflating: all-mias/mdb087.pgm     \n",
      "  inflating: all-mias/mdb088.pgm     \n",
      "  inflating: all-mias/mdb089.pgm     \n",
      "  inflating: all-mias/mdb090.pgm     \n",
      "  inflating: all-mias/mdb091.pgm     \n",
      "  inflating: all-mias/mdb092.pgm     \n",
      "  inflating: all-mias/mdb093.pgm     \n",
      "  inflating: all-mias/mdb094.pgm     \n",
      "  inflating: all-mias/mdb095.pgm     \n",
      "  inflating: all-mias/mdb096.pgm     \n",
      "  inflating: all-mias/mdb097.pgm     \n",
      "  inflating: all-mias/mdb098.pgm     \n",
      "  inflating: all-mias/mdb099.pgm     \n",
      "  inflating: all-mias/mdb100.pgm     \n",
      "  inflating: all-mias/mdb101.pgm     \n",
      "  inflating: all-mias/mdb102.pgm     \n",
      "  inflating: all-mias/mdb103.pgm     \n",
      "  inflating: all-mias/mdb104.pgm     \n",
      "  inflating: all-mias/mdb105.pgm     \n",
      "  inflating: all-mias/mdb106.pgm     \n",
      "  inflating: all-mias/mdb107.pgm     \n",
      "  inflating: all-mias/mdb108.pgm     \n",
      "  inflating: all-mias/mdb109.pgm     \n",
      "  inflating: all-mias/mdb110.pgm     \n",
      "  inflating: all-mias/mdb111.pgm     \n",
      "  inflating: all-mias/mdb112.pgm     \n",
      "  inflating: all-mias/mdb113.pgm     \n",
      "  inflating: all-mias/mdb114.pgm     \n",
      "  inflating: all-mias/mdb115.pgm     \n",
      "  inflating: all-mias/mdb116.pgm     \n",
      "  inflating: all-mias/mdb117.pgm     \n",
      "  inflating: all-mias/mdb118.pgm     \n",
      "  inflating: all-mias/mdb119.pgm     \n",
      "  inflating: all-mias/mdb120.pgm     \n",
      "  inflating: all-mias/mdb121.pgm     \n",
      "  inflating: all-mias/mdb122.pgm     \n",
      "  inflating: all-mias/mdb123.pgm     \n",
      "  inflating: all-mias/mdb124.pgm     \n",
      "  inflating: all-mias/mdb125.pgm     \n",
      "  inflating: all-mias/mdb126.pgm     \n",
      "  inflating: all-mias/mdb127.pgm     \n",
      "  inflating: all-mias/mdb128.pgm     \n",
      "  inflating: all-mias/mdb129.pgm     \n",
      "  inflating: all-mias/mdb130.pgm     \n",
      "  inflating: all-mias/mdb131.pgm     \n",
      "  inflating: all-mias/mdb132.pgm     \n",
      "  inflating: all-mias/mdb133.pgm     \n",
      "  inflating: all-mias/mdb134.pgm     \n",
      "  inflating: all-mias/mdb135.pgm     \n",
      "  inflating: all-mias/mdb136.pgm     \n",
      "  inflating: all-mias/mdb137.pgm     \n",
      "  inflating: all-mias/mdb138.pgm     \n",
      "  inflating: all-mias/mdb139.pgm     \n",
      "  inflating: all-mias/mdb140.pgm     \n",
      "  inflating: all-mias/mdb141.pgm     \n",
      "  inflating: all-mias/mdb142.pgm     \n",
      "  inflating: all-mias/mdb143.pgm     \n",
      "  inflating: all-mias/mdb144.pgm     \n",
      "  inflating: all-mias/mdb145.pgm     \n",
      "  inflating: all-mias/mdb146.pgm     \n",
      "  inflating: all-mias/mdb147.pgm     \n",
      "  inflating: all-mias/mdb148.pgm     \n",
      "  inflating: all-mias/mdb149.pgm     \n",
      "  inflating: all-mias/mdb150.pgm     \n",
      "  inflating: all-mias/mdb151.pgm     \n",
      "  inflating: all-mias/mdb152.pgm     \n",
      "  inflating: all-mias/mdb153.pgm     \n",
      "  inflating: all-mias/mdb154.pgm     \n",
      "  inflating: all-mias/mdb155.pgm     \n",
      "  inflating: all-mias/mdb156.pgm     \n",
      "  inflating: all-mias/mdb157.pgm     \n",
      "  inflating: all-mias/mdb158.pgm     \n",
      "  inflating: all-mias/mdb159.pgm     \n",
      "  inflating: all-mias/mdb160.pgm     \n",
      "  inflating: all-mias/mdb161.pgm     \n",
      "  inflating: all-mias/mdb162.pgm     \n",
      "  inflating: all-mias/mdb163.pgm     \n",
      "  inflating: all-mias/mdb164.pgm     \n",
      "  inflating: all-mias/mdb165.pgm     \n",
      "  inflating: all-mias/mdb166.pgm     \n",
      "  inflating: all-mias/mdb167.pgm     \n",
      "  inflating: all-mias/mdb168.pgm     \n",
      "  inflating: all-mias/mdb169.pgm     \n",
      "  inflating: all-mias/mdb170.pgm     \n",
      "  inflating: all-mias/mdb171.pgm     \n",
      "  inflating: all-mias/mdb172.pgm     \n",
      "  inflating: all-mias/mdb173.pgm     \n",
      "  inflating: all-mias/mdb174.pgm     \n",
      "  inflating: all-mias/mdb175.pgm     \n",
      "  inflating: all-mias/mdb176.pgm     \n",
      "  inflating: all-mias/mdb177.pgm     \n",
      "  inflating: all-mias/mdb178.pgm     \n",
      "  inflating: all-mias/mdb179.pgm     \n",
      "  inflating: all-mias/mdb180.pgm     \n",
      "  inflating: all-mias/mdb181.pgm     \n",
      "  inflating: all-mias/mdb182.pgm     \n",
      "  inflating: all-mias/mdb183.pgm     \n",
      "  inflating: all-mias/mdb184.pgm     \n",
      "  inflating: all-mias/mdb185.pgm     \n",
      "  inflating: all-mias/mdb186.pgm     \n",
      "  inflating: all-mias/mdb187.pgm     \n",
      "  inflating: all-mias/mdb188.pgm     \n",
      "  inflating: all-mias/mdb189.pgm     \n",
      "  inflating: all-mias/mdb190.pgm     \n",
      "  inflating: all-mias/mdb191.pgm     \n",
      "  inflating: all-mias/mdb192.pgm     \n",
      "  inflating: all-mias/mdb193.pgm     \n",
      "  inflating: all-mias/mdb194.pgm     \n",
      "  inflating: all-mias/mdb195.pgm     \n",
      "  inflating: all-mias/mdb196.pgm     \n",
      "  inflating: all-mias/mdb197.pgm     \n",
      "  inflating: all-mias/mdb198.pgm     \n",
      "  inflating: all-mias/mdb199.pgm     \n",
      "  inflating: all-mias/mdb200.pgm     \n",
      "  inflating: all-mias/mdb201.pgm     \n",
      "  inflating: all-mias/mdb202.pgm     \n",
      "  inflating: all-mias/mdb203.pgm     \n",
      "  inflating: all-mias/mdb204.pgm     \n",
      "  inflating: all-mias/mdb205.pgm     \n",
      "  inflating: all-mias/mdb206.pgm     \n",
      "  inflating: all-mias/mdb207.pgm     \n",
      "  inflating: all-mias/mdb208.pgm     \n",
      "  inflating: all-mias/mdb209.pgm     \n",
      "  inflating: all-mias/mdb210.pgm     \n",
      "  inflating: all-mias/mdb211.pgm     \n",
      "  inflating: all-mias/mdb212.pgm     \n",
      "  inflating: all-mias/mdb213.pgm     \n",
      "  inflating: all-mias/mdb214.pgm     \n",
      "  inflating: all-mias/mdb215.pgm     \n",
      "  inflating: all-mias/mdb216.pgm     \n",
      "  inflating: all-mias/mdb217.pgm     \n",
      "  inflating: all-mias/mdb218.pgm     \n",
      "  inflating: all-mias/mdb219.pgm     \n",
      "  inflating: all-mias/mdb220.pgm     \n",
      "  inflating: all-mias/mdb221.pgm     \n",
      "  inflating: all-mias/mdb222.pgm     \n",
      "  inflating: all-mias/mdb223.pgm     \n",
      "  inflating: all-mias/mdb224.pgm     \n",
      "  inflating: all-mias/mdb225.pgm     \n",
      "  inflating: all-mias/mdb226.pgm     \n",
      "  inflating: all-mias/mdb227.pgm     \n",
      "  inflating: all-mias/mdb228.pgm     \n",
      "  inflating: all-mias/mdb229.pgm     \n",
      "  inflating: all-mias/mdb230.pgm     \n",
      "  inflating: all-mias/mdb231.pgm     \n",
      "  inflating: all-mias/mdb232.pgm     \n",
      "  inflating: all-mias/mdb233.pgm     \n",
      "  inflating: all-mias/mdb234.pgm     \n",
      "  inflating: all-mias/mdb235.pgm     \n",
      "  inflating: all-mias/mdb236.pgm     \n",
      "  inflating: all-mias/mdb237.pgm     \n",
      "  inflating: all-mias/mdb238.pgm     \n",
      "  inflating: all-mias/mdb239.pgm     \n",
      "  inflating: all-mias/mdb240.pgm     \n",
      "  inflating: all-mias/mdb241.pgm     \n",
      "  inflating: all-mias/mdb242.pgm     \n",
      "  inflating: all-mias/mdb243.pgm     \n",
      "  inflating: all-mias/mdb244.pgm     \n",
      "  inflating: all-mias/mdb245.pgm     \n",
      "  inflating: all-mias/mdb246.pgm     \n",
      "  inflating: all-mias/mdb247.pgm     \n",
      "  inflating: all-mias/mdb248.pgm     \n",
      "  inflating: all-mias/mdb249.pgm     \n",
      "  inflating: all-mias/mdb250.pgm     \n",
      "  inflating: all-mias/mdb251.pgm     \n",
      "  inflating: all-mias/mdb252.pgm     \n",
      "  inflating: all-mias/mdb253.pgm     \n",
      "  inflating: all-mias/mdb254.pgm     \n",
      "  inflating: all-mias/mdb255.pgm     \n",
      "  inflating: all-mias/mdb256.pgm     \n",
      "  inflating: all-mias/mdb257.pgm     \n",
      "  inflating: all-mias/mdb258.pgm     \n",
      "  inflating: all-mias/mdb259.pgm     \n",
      "  inflating: all-mias/mdb260.pgm     \n",
      "  inflating: all-mias/mdb261.pgm     \n",
      "  inflating: all-mias/mdb262.pgm     \n",
      "  inflating: all-mias/mdb263.pgm     \n",
      "  inflating: all-mias/mdb264.pgm     \n",
      "  inflating: all-mias/mdb265.pgm     \n",
      "  inflating: all-mias/mdb266.pgm     \n",
      "  inflating: all-mias/mdb267.pgm     \n",
      "  inflating: all-mias/mdb268.pgm     \n",
      "  inflating: all-mias/mdb269.pgm     \n",
      "  inflating: all-mias/mdb270.pgm     \n",
      "  inflating: all-mias/mdb271.pgm     \n",
      "  inflating: all-mias/mdb272.pgm     \n",
      "  inflating: all-mias/mdb273.pgm     \n",
      "  inflating: all-mias/mdb274.pgm     \n",
      "  inflating: all-mias/mdb275.pgm     \n",
      "  inflating: all-mias/mdb276.pgm     \n",
      "  inflating: all-mias/mdb277.pgm     \n",
      "  inflating: all-mias/mdb278.pgm     \n",
      "  inflating: all-mias/mdb279.pgm     \n",
      "  inflating: all-mias/mdb280.pgm     \n",
      "  inflating: all-mias/mdb281.pgm     \n",
      "  inflating: all-mias/mdb282.pgm     \n",
      "  inflating: all-mias/mdb283.pgm     \n",
      "  inflating: all-mias/mdb284.pgm     \n",
      "  inflating: all-mias/mdb285.pgm     \n",
      "  inflating: all-mias/mdb286.pgm     \n",
      "  inflating: all-mias/mdb287.pgm     \n",
      "  inflating: all-mias/mdb288.pgm     \n",
      "  inflating: all-mias/mdb289.pgm     \n",
      "  inflating: all-mias/mdb290.pgm     \n",
      "  inflating: all-mias/mdb291.pgm     \n",
      "  inflating: all-mias/mdb292.pgm     \n",
      "  inflating: all-mias/mdb293.pgm     \n",
      "  inflating: all-mias/mdb294.pgm     \n",
      "  inflating: all-mias/mdb295.pgm     \n",
      "  inflating: all-mias/mdb296.pgm     \n",
      "  inflating: all-mias/mdb297.pgm     \n",
      "  inflating: all-mias/mdb298.pgm     \n",
      "  inflating: all-mias/mdb299.pgm     \n",
      "  inflating: all-mias/mdb300.pgm     \n",
      "  inflating: all-mias/mdb301.pgm     \n",
      "  inflating: all-mias/mdb302.pgm     \n",
      "  inflating: all-mias/mdb303.pgm     \n",
      "  inflating: all-mias/mdb304.pgm     \n",
      "  inflating: all-mias/mdb305.pgm     \n",
      "  inflating: all-mias/mdb306.pgm     \n",
      "  inflating: all-mias/mdb307.pgm     \n",
      "  inflating: all-mias/mdb308.pgm     \n",
      "  inflating: all-mias/mdb309.pgm     \n",
      "  inflating: all-mias/mdb310.pgm     \n",
      "  inflating: all-mias/mdb311.pgm     \n",
      "  inflating: all-mias/mdb312.pgm     \n",
      "  inflating: all-mias/mdb313.pgm     \n",
      "  inflating: all-mias/mdb314.pgm     \n",
      "  inflating: all-mias/mdb315.pgm     \n",
      "  inflating: all-mias/mdb316.pgm     \n",
      "  inflating: all-mias/mdb317.pgm     \n",
      "  inflating: all-mias/mdb318.pgm     \n",
      "  inflating: all-mias/mdb319.pgm     \n",
      "  inflating: all-mias/mdb320.pgm     \n",
      "  inflating: all-mias/mdb321.pgm     \n",
      "  inflating: all-mias/mdb322.pgm     \n",
      "  inflating: all_mias_scans.h5       \n"
     ]
    }
   ],
   "source": [
    "# CSV dataset\n",
    "#!kaggle datasets download -d uciml/breast-cancer-wisconsin-data\n",
    "\n",
    "# Image Dataset 6GB\n",
    "#!kaggle datasets download -d skooch/ddsm-mammography\n",
    "\n",
    "!kaggle datasets download -d kmader/mias-mammography\n",
    "!unzip mias-mammography.zip\n",
    "!rm mias-mammography.zip\n",
    "#!tar -xf all-mias.tar.gz\n",
    "!rm all-mias.tar.gz"
   ]
  },
  {
   "cell_type": "markdown",
   "metadata": {
    "colab_type": "text",
    "id": "Y-pBrTZK89PB"
   },
   "source": [
    "# Importing libraries"
   ]
  },
  {
   "cell_type": "code",
   "execution_count": 4,
   "metadata": {
    "colab": {},
    "colab_type": "code",
    "id": "0UDK69OiOT4Q"
   },
   "outputs": [],
   "source": [
    "import re\n",
    "import os\n",
    "import numpy as np\n",
    "import pandas as pd\n",
    "import tensorflow as tf\n",
    "import matplotlib.pyplot as plt\n",
    "from skimage.transform import resize\n",
    "from tensorflow.keras.preprocessing.image import ImageDataGenerator"
   ]
  },
  {
   "cell_type": "markdown",
   "metadata": {
    "colab_type": "text",
    "id": "WL3M2uciCyqo"
   },
   "source": [
    "# Labels"
   ]
  },
  {
   "cell_type": "code",
   "execution_count": 5,
   "metadata": {
    "colab": {
     "base_uri": "https://localhost:8080/",
     "height": 36
    },
    "colab_type": "code",
    "id": "b_QkcNKATJgb",
    "outputId": "64c528f1-fcc9-417b-a8d1-c6070e30460f"
   },
   "outputs": [
    {
     "data": {
      "text/plain": [
       "(330, 7)"
      ]
     },
     "execution_count": 5,
     "metadata": {
      "tags": []
     },
     "output_type": "execute_result"
    }
   ],
   "source": [
    "data = pd.read_csv(\"Info.txt\", delimiter = ' ', usecols=['REFNUM', 'BG', 'CLASS', 'SEVERITY', 'X', 'Y', 'RADIUS'])\n",
    "data.shape"
   ]
  },
  {
   "cell_type": "code",
   "execution_count": 6,
   "metadata": {
    "colab": {
     "base_uri": "https://localhost:8080/",
     "height": 278
    },
    "colab_type": "code",
    "id": "wFB3fXeLTSd4",
    "outputId": "0e5fd20e-53c5-47dc-ef4e-c2cf1f49da86"
   },
   "outputs": [
    {
     "name": "stdout",
     "output_type": "stream",
     "text": [
      "     REFNUM BG CLASS SEVERITY      X      Y  RADIUS\n",
      "0    mdb001  G  CIRC        B  535.0  425.0   197.0\n",
      "1    mdb002  G  CIRC        B  522.0  280.0    69.0\n",
      "2    mdb003  D  NORM      NaN    NaN    NaN     NaN\n",
      "3    mdb004  D  NORM      NaN    NaN    NaN     NaN\n",
      "4    mdb005  F  CIRC        B  477.0  133.0    30.0\n",
      "..      ... ..   ...      ...    ...    ...     ...\n",
      "325  mdb318  D  NORM      NaN    NaN    NaN     NaN\n",
      "326  mdb319  D  NORM      NaN    NaN    NaN     NaN\n",
      "327  mdb320  D  NORM      NaN    NaN    NaN     NaN\n",
      "328  mdb321  D  NORM      NaN    NaN    NaN     NaN\n",
      "329  mdb322  D  NORM      NaN    NaN    NaN     NaN\n",
      "\n",
      "[330 rows x 7 columns]\n"
     ]
    }
   ],
   "source": [
    "print(data)"
   ]
  },
  {
   "cell_type": "markdown",
   "metadata": {
    "colab_type": "text",
    "id": "ewpYn6jN0SEq"
   },
   "source": [
    "Adding 20 values with misssing radius values"
   ]
  },
  {
   "cell_type": "code",
   "execution_count": 7,
   "metadata": {
    "colab": {
     "base_uri": "https://localhost:8080/",
     "height": 54
    },
    "colab_type": "code",
    "id": "-lY54K8ba_so",
    "outputId": "bcdbf431-3a1a-44d4-c735-aa410e0cb5af"
   },
   "outputs": [
    {
     "name": "stdout",
     "output_type": "stream",
     "text": [
      "127 793 125 994\n",
      "(350, 7)\n"
     ]
    }
   ],
   "source": [
    "cancer_classes = ['CALC', 'CIRC', 'ARCH', 'SPIC', 'MISC', 'ASYM']\n",
    "min_X_not_null = int(min(data[data['X'].notnull()]['X']))\n",
    "max_X_not_null = int(max(data[data['X'].notnull()]['X']))\n",
    "min_Y_not_null = int(min(data[data['Y'].notnull()]['Y']))\n",
    "max_Y_not_null = int(max(data[data['Y'].notnull()]['Y']))\n",
    "print(min_X_not_null, max_X_not_null, min_Y_not_null, max_Y_not_null)\n",
    "# Generating 20 random X, Y values for random cancer classes\n",
    "from random import sample\n",
    "rows = []\n",
    "for i in range(20):\n",
    "    rows.append([\n",
    "        f'mdb{323+i}',\n",
    "        sample(['G','D','F'], 1),\n",
    "        sample(cancer_classes, 1),\n",
    "        sample(['B', 'M'], 1),\n",
    "        sample(range(min_X_not_null, max_X_not_null+1), 1),\n",
    "        sample(range(min_Y_not_null, max_Y_not_null+1), 1),\n",
    "        np.nan\n",
    "    ])\n",
    "new_values_data = pd.DataFrame(rows, columns=['REFNUM', 'BG', 'CLASS', 'SEVERITY', 'X', 'Y', 'RADIUS'])\n",
    "# Inserting new 20 new rows with NaN Radius values\n",
    "data = data.append(new_values_data)\n",
    "print(data.shape)"
   ]
  },
  {
   "cell_type": "markdown",
   "metadata": {
    "colab_type": "text",
    "id": "lt4oqKVh0YWt"
   },
   "source": [
    "Filling the missiing values with mean\n"
   ]
  },
  {
   "cell_type": "code",
   "execution_count": 33,
   "metadata": {
    "colab": {
     "base_uri": "https://localhost:8080/",
     "height": 801
    },
    "colab_type": "code",
    "id": "8imicRWS0epG",
    "outputId": "8d217b28-33ae-44ef-aa46-3c3e1dfbc4a8"
   },
   "outputs": [
    {
     "name": "stdout",
     "output_type": "stream",
     "text": [
      "     REFNUM   BG   CLASS SEVERITY      X      Y      RADIUS\n",
      "0    mdb001    G    CIRC        B    535    425  197.000000\n",
      "1    mdb002    G    CIRC        B    522    280   69.000000\n",
      "4    mdb005    F    CIRC        B    477    133   30.000000\n",
      "5    mdb005    F    CIRC        B    500    168   26.000000\n",
      "10   mdb010    F    CIRC        B    525    425   33.000000\n",
      "..      ...  ...     ...      ...    ...    ...         ...\n",
      "297  mdb290    D    CIRC        B    337    353   45.000000\n",
      "319  mdb312    F    MISC        B    240    263   20.000000\n",
      "321  mdb314    F    MISC        B    518    191   39.000000\n",
      "322  mdb315    D    CIRC        B    516    447   93.000000\n",
      "19   mdb342  [F]  [ASYM]      [B]  [238]  [267]   48.847458\n",
      "\n",
      "[120 rows x 7 columns]\n",
      "    REFNUM   BG   CLASS SEVERITY      X      Y      RADIUS\n",
      "0   mdb001    G    CIRC        B    535    425  197.000000\n",
      "1   mdb002    G    CIRC        B    522    280   69.000000\n",
      "2   mdb003    D    NORM      NaN    NaN    NaN         NaN\n",
      "3   mdb004    D    NORM      NaN    NaN    NaN         NaN\n",
      "4   mdb005    F    CIRC        B    477    133   30.000000\n",
      "..     ...  ...     ...      ...    ...    ...         ...\n",
      "15  mdb338  [D]  [ASYM]      [B]  [423]  [350]         NaN\n",
      "16  mdb339  [D]  [SPIC]      [M]  [770]  [754]         NaN\n",
      "17  mdb340  [F]  [ASYM]      [M]  [414]  [495]         NaN\n",
      "18  mdb341  [G]  [CALC]      [B]  [129]  [755]         NaN\n",
      "19  mdb342  [F]  [ASYM]      [B]  [238]  [267]   48.847458\n",
      "\n",
      "[350 rows x 7 columns]\n",
      "     REFNUM   BG   CLASS SEVERITY      X      Y      RADIUS\n",
      "0    mdb001    G    CIRC        B    535    425  197.000000\n",
      "1    mdb002    G    CIRC        B    522    280   69.000000\n",
      "4    mdb005    F    CIRC        B    477    133   30.000000\n",
      "5    mdb005    F    CIRC        B    500    168   26.000000\n",
      "10   mdb010    F    CIRC        B    525    425   33.000000\n",
      "..      ...  ...     ...      ...    ...    ...         ...\n",
      "297  mdb290    D    CIRC        B    337    353   45.000000\n",
      "319  mdb312    F    MISC        B    240    263   20.000000\n",
      "321  mdb314    F    MISC        B    518    191   39.000000\n",
      "322  mdb315    D    CIRC        B    516    447   93.000000\n",
      "19   mdb342  [F]  [ASYM]      [B]  [238]  [267]   48.847458\n",
      "\n",
      "[120 rows x 7 columns]\n"
     ]
    }
   ],
   "source": [
    "print(data[data['RADIUS'].notnull()])\n",
    "mean_of_radius = data[data['RADIUS'].notnull()]['RADIUS'].mean()\n",
    "for index, row in data.iterrows():\n",
    "  if row['CLASS'] != 'NORM':\n",
    "    data.at[i,'RADIUS'] = mean_of_radius\n",
    "print(data)\n",
    "print(data[data['RADIUS'].notnull()])"
   ]
  },
  {
   "cell_type": "code",
   "execution_count": null,
   "metadata": {
    "colab": {
     "base_uri": "https://localhost:8080/",
     "height": 166
    },
    "colab_type": "code",
    "id": "jN7SdqoaC53n",
    "outputId": "a8932c86-4a87-4d32-afa7-4782ed21f0c3"
   },
   "outputs": [
    {
     "data": {
      "text/plain": [
       "NORM    207\n",
       "CALC     30\n",
       "CIRC     25\n",
       "ARCH     19\n",
       "SPIC     19\n",
       "MISC     15\n",
       "ASYM     15\n",
       "Name: CLASS, dtype: int64"
      ]
     },
     "execution_count": 7,
     "metadata": {
      "tags": []
     },
     "output_type": "execute_result"
    }
   ],
   "source": [
    "data.CLASS.value_counts()"
   ]
  },
  {
   "cell_type": "code",
   "execution_count": null,
   "metadata": {
    "colab": {},
    "colab_type": "code",
    "id": "T-YKm8CiUZoz"
   },
   "outputs": [],
   "source": [
    "def createY(class_label):\n",
    "  if class_label == 'NORM':\n",
    "    return np.array([1, 0, 0, 0, 0, 0, 0])\n",
    "  elif class_label == 'CALC':\n",
    "    return np.array([0, 1, 0, 0, 0, 0, 0])\n",
    "  elif class_label == 'CIRC':\n",
    "    return np.array([0, 0, 1, 0, 0, 0, 0])\n",
    "  elif class_label == 'ARCH':\n",
    "    return np.array([0, 0, 0, 1, 0, 0, 0])\n",
    "  elif class_label == 'SPIC':\n",
    "    return np.array([0, 0, 0, 0, 1, 0, 0])\n",
    "  elif class_label == 'MISC':\n",
    "    return np.array([0, 0, 0, 0, 0, 1, 0])\n",
    "  elif class_label == 'ASYM':\n",
    "    return np.array([0, 0, 0, 0, 0, 0, 1])"
   ]
  },
  {
   "cell_type": "code",
   "execution_count": null,
   "metadata": {
    "colab": {
     "base_uri": "https://localhost:8080/",
     "height": 36
    },
    "colab_type": "code",
    "id": "yNBGwJXA_MjD",
    "outputId": "941a8218-8a00-44a7-c8a5-bae4b58a7805"
   },
   "outputs": [
    {
     "data": {
      "text/plain": [
       "(330, 7)"
      ]
     },
     "execution_count": 9,
     "metadata": {
      "tags": []
     },
     "output_type": "execute_result"
    }
   ],
   "source": [
    "labels = []\n",
    "for class_value in data.CLASS:\n",
    "  labels.append(createY(class_value))\n",
    "labels = np.array(labels)\n",
    "labels.shape"
   ]
  },
  {
   "cell_type": "code",
   "execution_count": null,
   "metadata": {
    "colab": {
     "base_uri": "https://localhost:8080/",
     "height": 36
    },
    "colab_type": "code",
    "id": "2rAPLsx7GGn2",
    "outputId": "0cd1f401-bf4b-4beb-fbfa-bc1b6dcbde05"
   },
   "outputs": [
    {
     "data": {
      "text/plain": [
       "2"
      ]
     },
     "execution_count": 10,
     "metadata": {
      "tags": []
     },
     "output_type": "execute_result"
    }
   ],
   "source": [
    "labels.ndim"
   ]
  },
  {
   "cell_type": "markdown",
   "metadata": {
    "colab_type": "text",
    "id": "mwP16iwHCvoR"
   },
   "source": [
    "# Images"
   ]
  },
  {
   "cell_type": "code",
   "execution_count": null,
   "metadata": {
    "colab": {},
    "colab_type": "code",
    "id": "TBLDeBCt2dE6"
   },
   "outputs": [],
   "source": [
    "# code fromm \"https://blog.jacob.vi/modifying-tensorflows-mnist-for-beginners-tutorial-to-search-for-cancer-in-mammograms/\"\n",
    "def OpenPGM(filename):\n",
    "  with open(filename, 'rb') as f:\n",
    "    buffer = f.read()\n",
    "  try:\n",
    "    header, width, height, maxval = re.search(\n",
    "    b\"(^P5\\s(?:\\s*#.*[\\r\\n])*\"\n",
    "    b\"(\\d+)\\s(?:\\s*#.*[\\r\\n])*\"\n",
    "    b\"(\\d+)\\s(?:\\s*#.*[\\r\\n])*\"\n",
    "    b\"(\\d+)\\s(?:\\s*#.*[\\r\\n]\\s)*)\", buffer).groups()\n",
    "  except AttributeError:\n",
    "    raise ValueError(\"Not a raw PGM file: '%s'\" % filename)\n",
    "  return np.frombuffer(buffer,\n",
    "                          dtype='u1' if int(maxval) < 256 else byteorder+'u2',\n",
    "                          count=int(width)*int(height),\n",
    "                          offset=len(header)).reshape((int(height),int(width)))"
   ]
  },
  {
   "cell_type": "code",
   "execution_count": null,
   "metadata": {
    "colab": {
     "base_uri": "https://localhost:8080/",
     "height": 54
    },
    "colab_type": "code",
    "id": "bPgDUIGRFWyh",
    "outputId": "7581293f-92c0-4583-f112-a5e48f5ce274"
   },
   "outputs": [
    {
     "name": "stdout",
     "output_type": "stream",
     "text": [
      "(330, 224, 224, 3)\n",
      "4\n"
     ]
    }
   ],
   "source": [
    "import cv2\n",
    "directory = \"/content/all-mias/\"\n",
    "\n",
    "images = []\n",
    "for filename in data.REFNUM:\n",
    "  images.append(cv2.resize(np.stack((OpenPGM(directory+filename+'.pgm'), )*3, axis = -1), dsize = (224, 224), interpolation = cv2.INTER_CUBIC))\n",
    "\n",
    "images = np.array(images)\n",
    "print(images.shape, images.ndim, sep = '\\n')"
   ]
  },
  {
   "cell_type": "code",
   "execution_count": null,
   "metadata": {
    "colab": {},
    "colab_type": "code",
    "id": "nVFhKNtUGqIF"
   },
   "outputs": [],
   "source": [
    "generator = ImageDataGenerator(rescale=1./255., horizontal_flip = True, validation_split=0.2)\n",
    "\n",
    "training_data = generator.flow(images, labels, batch_size = 16, subset = 'training', shuffle = True)\n",
    "validation_data = generator.flow(images, labels, batch_size = 16, subset = 'validation', shuffle = True)"
   ]
  },
  {
   "cell_type": "code",
   "execution_count": null,
   "metadata": {
    "colab": {},
    "colab_type": "code",
    "id": "3nh8EqW8HpeO"
   },
   "outputs": [],
   "source": [
    "sample_images, sample_labels = next(training_data)"
   ]
  },
  {
   "cell_type": "code",
   "execution_count": null,
   "metadata": {
    "colab": {
     "base_uri": "https://localhost:8080/",
     "height": 1000
    },
    "colab_type": "code",
    "id": "fjH65oVfCX0a",
    "outputId": "7ffda0f7-c4c2-412c-f11e-fcd543117db5"
   },
   "outputs": [
    {
     "data": {
      "text/plain": [
       "<matplotlib.image.AxesImage at 0x7f863b2ca390>"
      ]
     },
     "execution_count": 15,
     "metadata": {
      "tags": []
     },
     "output_type": "execute_result"
    },
    {
     "data": {
      "image/png": "[encoded data removed]",
      "text/plain": [
       "<Figure size 1440x1440 with 1 Axes>"
      ]
     },
     "metadata": {
      "needs_background": "light",
      "tags": []
     },
     "output_type": "display_data"
    }
   ],
   "source": [
    "plt.figure(figsize = (20, 20))\n",
    "plt.imshow(sample_images[0])"
   ]
  },
  {
   "cell_type": "markdown",
   "metadata": {
    "colab_type": "text",
    "id": "Z9bpjJxTI4eN"
   },
   "source": [
    "# Creating Model"
   ]
  },
  {
   "cell_type": "code",
   "execution_count": null,
   "metadata": {
    "colab": {},
    "colab_type": "code",
    "id": "QPm99kvAI7wR"
   },
   "outputs": [],
   "source": [
    "from tensorflow.keras.models import Sequential\n",
    "from tensorflow.keras.applications.vgg16 import VGG16\n",
    "from tensorflow.keras.layers import Conv2D, GlobalAveragePooling2D, Flatten, Dense, Dropout"
   ]
  },
  {
   "cell_type": "code",
   "execution_count": null,
   "metadata": {
    "colab": {
     "base_uri": "https://localhost:8080/",
     "height": 54
    },
    "colab_type": "code",
    "id": "TtNvZk7pQ1Fe",
    "outputId": "21b9229a-bc88-4345-de7b-a879075f2784"
   },
   "outputs": [
    {
     "name": "stdout",
     "output_type": "stream",
     "text": [
      "Downloading data from https://storage.googleapis.com/tensorflow/keras-applications/vgg16/vgg16_weights_tf_dim_ordering_tf_kernels_notop.h5\n",
      "58892288/58889256 [==============================] - 0s 0us/step\n"
     ]
    }
   ],
   "source": [
    "image_shape = (224, 224, 3)\n",
    "base_model = VGG16(input_shape = image_shape, include_top = False, weights = 'imagenet')"
   ]
  },
  {
   "cell_type": "code",
   "execution_count": null,
   "metadata": {
    "colab": {},
    "colab_type": "code",
    "id": "p5xkRq8ITo8g"
   },
   "outputs": [],
   "source": [
    "base_model.trainable = False"
   ]
  },
  {
   "cell_type": "code",
   "execution_count": null,
   "metadata": {
    "colab": {},
    "colab_type": "code",
    "id": "PkaSFKhla4-m"
   },
   "outputs": [],
   "source": [
    "model = Sequential([\n",
    "                    base_model,\n",
    "                    GlobalAveragePooling2D(),\n",
    "                    Dense(512, activation = 'relu'),\n",
    "                    # Dropout(0.4),\n",
    "                    # Dense(256, activation = 'relu'),\n",
    "                    # Dropout(0.4),\n",
    "                    Dense(128, activation = 'relu'),\n",
    "                    # Dropout(0.4),\n",
    "                    Dense(64, activation = 'relu'),\n",
    "                    # Dropout(0.4),\n",
    "                    Dense(7, activation = 'softmax')\n",
    "])"
   ]
  },
  {
   "cell_type": "code",
   "execution_count": null,
   "metadata": {
    "colab": {},
    "colab_type": "code",
    "id": "l2DoeO4WnFEs"
   },
   "outputs": [],
   "source": [
    "optimizer = tf.keras.optimizers.Adam(learning_rate = 0.0001)\n",
    "model.compile(optimizer = optimizer, loss = \"CategoricalCrossentropy\", metrics = ['accuracy'])"
   ]
  },
  {
   "cell_type": "code",
   "execution_count": null,
   "metadata": {
    "colab": {
     "base_uri": "https://localhost:8080/",
     "height": 390
    },
    "colab_type": "code",
    "id": "-TVX2CDCnlXo",
    "outputId": "e400fdf1-7e6f-4eac-cdde-0b6cbaa778e9"
   },
   "outputs": [
    {
     "name": "stdout",
     "output_type": "stream",
     "text": [
      "Model: \"sequential\"\n",
      "_________________________________________________________________\n",
      "Layer (type)                 Output Shape              Param #   \n",
      "=================================================================\n",
      "vgg16 (Functional)           (None, 7, 7, 512)         14714688  \n",
      "_________________________________________________________________\n",
      "global_average_pooling2d (Gl (None, 512)               0         \n",
      "_________________________________________________________________\n",
      "dense (Dense)                (None, 512)               262656    \n",
      "_________________________________________________________________\n",
      "dense_1 (Dense)              (None, 128)               65664     \n",
      "_________________________________________________________________\n",
      "dense_2 (Dense)              (None, 64)                8256      \n",
      "_________________________________________________________________\n",
      "dense_3 (Dense)              (None, 7)                 455       \n",
      "=================================================================\n",
      "Total params: 15,051,719\n",
      "Trainable params: 337,031\n",
      "Non-trainable params: 14,714,688\n",
      "_________________________________________________________________\n"
     ]
    }
   ],
   "source": [
    "model.summary()"
   ]
  },
  {
   "cell_type": "code",
   "execution_count": null,
   "metadata": {
    "colab": {
     "base_uri": "https://localhost:8080/",
     "height": 1000
    },
    "colab_type": "code",
    "id": "4wTSUbSCnmnY",
    "outputId": "d36e8008-8b85-44b0-973f-18e5956b31b7"
   },
   "outputs": [
    {
     "name": "stdout",
     "output_type": "stream",
     "text": [
      "Epoch 1/300\n",
      "17/17 [==============================] - 2s 130ms/step - loss: 1.7322 - accuracy: 0.4318 - val_loss: 1.4133 - val_accuracy: 0.7121\n",
      "Epoch 2/300\n",
      "17/17 [==============================] - 1s 71ms/step - loss: 1.4334 - accuracy: 0.6061 - val_loss: 1.2287 - val_accuracy: 0.7121\n",
      "Epoch 3/300\n",
      "17/17 [==============================] - 1s 70ms/step - loss: 1.3602 - accuracy: 0.6061 - val_loss: 1.2003 - val_accuracy: 0.7121\n",
      "Epoch 4/300\n",
      "17/17 [==============================] - 1s 71ms/step - loss: 1.3622 - accuracy: 0.6061 - val_loss: 1.2073 - val_accuracy: 0.7121\n",
      "Epoch 5/300\n",
      "17/17 [==============================] - 1s 71ms/step - loss: 1.3572 - accuracy: 0.6061 - val_loss: 1.2557 - val_accuracy: 0.7121\n",
      "Epoch 6/300\n",
      "17/17 [==============================] - 1s 70ms/step - loss: 1.3504 - accuracy: 0.6061 - val_loss: 1.2440 - val_accuracy: 0.7121\n",
      "Epoch 7/300\n",
      "17/17 [==============================] - 1s 70ms/step - loss: 1.3517 - accuracy: 0.6061 - val_loss: 1.2493 - val_accuracy: 0.7121\n",
      "Epoch 8/300\n",
      "17/17 [==============================] - 1s 71ms/step - loss: 1.3476 - accuracy: 0.6061 - val_loss: 1.2518 - val_accuracy: 0.7121\n",
      "Epoch 9/300\n",
      "17/17 [==============================] - 1s 72ms/step - loss: 1.3479 - accuracy: 0.6061 - val_loss: 1.2544 - val_accuracy: 0.7121\n",
      "Epoch 10/300\n",
      "17/17 [==============================] - 1s 71ms/step - loss: 1.3431 - accuracy: 0.6061 - val_loss: 1.2605 - val_accuracy: 0.7121\n",
      "Epoch 11/300\n",
      "17/17 [==============================] - 1s 71ms/step - loss: 1.3469 - accuracy: 0.6061 - val_loss: 1.2639 - val_accuracy: 0.7121\n",
      "Epoch 12/300\n",
      "17/17 [==============================] - 1s 72ms/step - loss: 1.3432 - accuracy: 0.6061 - val_loss: 1.2772 - val_accuracy: 0.7121\n",
      "Epoch 13/300\n",
      "17/17 [==============================] - 1s 70ms/step - loss: 1.3420 - accuracy: 0.6061 - val_loss: 1.2827 - val_accuracy: 0.7121\n",
      "Epoch 14/300\n",
      "17/17 [==============================] - 1s 72ms/step - loss: 1.3398 - accuracy: 0.6061 - val_loss: 1.2683 - val_accuracy: 0.7121\n",
      "Epoch 15/300\n",
      "17/17 [==============================] - 1s 71ms/step - loss: 1.3406 - accuracy: 0.6061 - val_loss: 1.2759 - val_accuracy: 0.7121\n",
      "Epoch 16/300\n",
      "17/17 [==============================] - 1s 72ms/step - loss: 1.3379 - accuracy: 0.6061 - val_loss: 1.2763 - val_accuracy: 0.7121\n",
      "Epoch 17/300\n",
      "17/17 [==============================] - 1s 71ms/step - loss: 1.3427 - accuracy: 0.6061 - val_loss: 1.2645 - val_accuracy: 0.7121\n",
      "Epoch 18/300\n",
      "17/17 [==============================] - 1s 72ms/step - loss: 1.3366 - accuracy: 0.6061 - val_loss: 1.2723 - val_accuracy: 0.7121\n",
      "Epoch 19/300\n",
      "17/17 [==============================] - 1s 72ms/step - loss: 1.3394 - accuracy: 0.6061 - val_loss: 1.2683 - val_accuracy: 0.7121\n",
      "Epoch 20/300\n",
      "17/17 [==============================] - 1s 72ms/step - loss: 1.3385 - accuracy: 0.6061 - val_loss: 1.2857 - val_accuracy: 0.7121\n",
      "Epoch 21/300\n",
      "17/17 [==============================] - 1s 71ms/step - loss: 1.3319 - accuracy: 0.6061 - val_loss: 1.2585 - val_accuracy: 0.7121\n",
      "Epoch 22/300\n",
      "17/17 [==============================] - 1s 72ms/step - loss: 1.3333 - accuracy: 0.6061 - val_loss: 1.2661 - val_accuracy: 0.7121\n",
      "Epoch 23/300\n",
      "17/17 [==============================] - 1s 72ms/step - loss: 1.3299 - accuracy: 0.6061 - val_loss: 1.2745 - val_accuracy: 0.7121\n",
      "Epoch 24/300\n",
      "17/17 [==============================] - 1s 72ms/step - loss: 1.3283 - accuracy: 0.6061 - val_loss: 1.2813 - val_accuracy: 0.7121\n",
      "Epoch 25/300\n",
      "17/17 [==============================] - 1s 72ms/step - loss: 1.3304 - accuracy: 0.6061 - val_loss: 1.2874 - val_accuracy: 0.7121\n",
      "Epoch 26/300\n",
      "17/17 [==============================] - 1s 72ms/step - loss: 1.3336 - accuracy: 0.6061 - val_loss: 1.2665 - val_accuracy: 0.7121\n",
      "Epoch 27/300\n",
      "17/17 [==============================] - 1s 72ms/step - loss: 1.3232 - accuracy: 0.6061 - val_loss: 1.2860 - val_accuracy: 0.7121\n",
      "Epoch 28/300\n",
      "17/17 [==============================] - 1s 72ms/step - loss: 1.3273 - accuracy: 0.6061 - val_loss: 1.2695 - val_accuracy: 0.7121\n",
      "Epoch 29/300\n",
      "17/17 [==============================] - 1s 72ms/step - loss: 1.3239 - accuracy: 0.6061 - val_loss: 1.2876 - val_accuracy: 0.7121\n",
      "Epoch 30/300\n",
      "17/17 [==============================] - 1s 72ms/step - loss: 1.3199 - accuracy: 0.6061 - val_loss: 1.2890 - val_accuracy: 0.7121\n",
      "Epoch 31/300\n",
      "17/17 [==============================] - 1s 71ms/step - loss: 1.3167 - accuracy: 0.6061 - val_loss: 1.2751 - val_accuracy: 0.7121\n",
      "Epoch 32/300\n",
      "17/17 [==============================] - 1s 72ms/step - loss: 1.3203 - accuracy: 0.6061 - val_loss: 1.2933 - val_accuracy: 0.7121\n",
      "Epoch 33/300\n",
      "17/17 [==============================] - 1s 72ms/step - loss: 1.3255 - accuracy: 0.6061 - val_loss: 1.2818 - val_accuracy: 0.7121\n",
      "Epoch 34/300\n",
      "17/17 [==============================] - 1s 72ms/step - loss: 1.3138 - accuracy: 0.6061 - val_loss: 1.2766 - val_accuracy: 0.7121\n",
      "Epoch 35/300\n",
      "17/17 [==============================] - 1s 73ms/step - loss: 1.3135 - accuracy: 0.6061 - val_loss: 1.2683 - val_accuracy: 0.7121\n",
      "Epoch 36/300\n",
      "17/17 [==============================] - 1s 72ms/step - loss: 1.3130 - accuracy: 0.6061 - val_loss: 1.2780 - val_accuracy: 0.7121\n",
      "Epoch 37/300\n",
      "17/17 [==============================] - 1s 72ms/step - loss: 1.3104 - accuracy: 0.6061 - val_loss: 1.2654 - val_accuracy: 0.7121\n",
      "Epoch 38/300\n",
      "17/17 [==============================] - 1s 71ms/step - loss: 1.3128 - accuracy: 0.6061 - val_loss: 1.2697 - val_accuracy: 0.7121\n",
      "Epoch 39/300\n",
      "17/17 [==============================] - 1s 71ms/step - loss: 1.3121 - accuracy: 0.6061 - val_loss: 1.2801 - val_accuracy: 0.7121\n",
      "Epoch 40/300\n",
      "17/17 [==============================] - 1s 72ms/step - loss: 1.3083 - accuracy: 0.6061 - val_loss: 1.2957 - val_accuracy: 0.7121\n",
      "Epoch 41/300\n",
      "17/17 [==============================] - 1s 71ms/step - loss: 1.3050 - accuracy: 0.6061 - val_loss: 1.2773 - val_accuracy: 0.7121\n",
      "Epoch 42/300\n",
      "17/17 [==============================] - 1s 73ms/step - loss: 1.3056 - accuracy: 0.6061 - val_loss: 1.2913 - val_accuracy: 0.7121\n",
      "Epoch 43/300\n",
      "17/17 [==============================] - 1s 72ms/step - loss: 1.3068 - accuracy: 0.6061 - val_loss: 1.2907 - val_accuracy: 0.7121\n",
      "Epoch 44/300\n",
      "17/17 [==============================] - 1s 73ms/step - loss: 1.3043 - accuracy: 0.6061 - val_loss: 1.2947 - val_accuracy: 0.7121\n",
      "Epoch 45/300\n",
      "17/17 [==============================] - 1s 72ms/step - loss: 1.2992 - accuracy: 0.6061 - val_loss: 1.2572 - val_accuracy: 0.7121\n",
      "Epoch 46/300\n",
      "17/17 [==============================] - 1s 73ms/step - loss: 1.3023 - accuracy: 0.6061 - val_loss: 1.2625 - val_accuracy: 0.7121\n",
      "Epoch 47/300\n",
      "17/17 [==============================] - 1s 73ms/step - loss: 1.3010 - accuracy: 0.6061 - val_loss: 1.2984 - val_accuracy: 0.7121\n",
      "Epoch 48/300\n",
      "17/17 [==============================] - 1s 73ms/step - loss: 1.2983 - accuracy: 0.6061 - val_loss: 1.2840 - val_accuracy: 0.7121\n",
      "Epoch 49/300\n",
      "17/17 [==============================] - 1s 73ms/step - loss: 1.2935 - accuracy: 0.6061 - val_loss: 1.2956 - val_accuracy: 0.7121\n",
      "Epoch 50/300\n",
      "17/17 [==============================] - 1s 73ms/step - loss: 1.3008 - accuracy: 0.6061 - val_loss: 1.2675 - val_accuracy: 0.7121\n",
      "Epoch 51/300\n",
      "17/17 [==============================] - 1s 73ms/step - loss: 1.2884 - accuracy: 0.6061 - val_loss: 1.2762 - val_accuracy: 0.7121\n",
      "Epoch 52/300\n",
      "17/17 [==============================] - 1s 73ms/step - loss: 1.2926 - accuracy: 0.6061 - val_loss: 1.2634 - val_accuracy: 0.7121\n",
      "Epoch 53/300\n",
      "17/17 [==============================] - 1s 73ms/step - loss: 1.2844 - accuracy: 0.6061 - val_loss: 1.2990 - val_accuracy: 0.7121\n",
      "Epoch 54/300\n",
      "17/17 [==============================] - 1s 72ms/step - loss: 1.2902 - accuracy: 0.6061 - val_loss: 1.2755 - val_accuracy: 0.7121\n",
      "Epoch 55/300\n",
      "17/17 [==============================] - 1s 72ms/step - loss: 1.2870 - accuracy: 0.6061 - val_loss: 1.2823 - val_accuracy: 0.7121\n",
      "Epoch 56/300\n",
      "17/17 [==============================] - 1s 73ms/step - loss: 1.2812 - accuracy: 0.6061 - val_loss: 1.2571 - val_accuracy: 0.7121\n",
      "Epoch 57/300\n",
      "17/17 [==============================] - 1s 73ms/step - loss: 1.2847 - accuracy: 0.6061 - val_loss: 1.2699 - val_accuracy: 0.7121\n",
      "Epoch 58/300\n",
      "17/17 [==============================] - 1s 73ms/step - loss: 1.2831 - accuracy: 0.6061 - val_loss: 1.2737 - val_accuracy: 0.7121\n",
      "Epoch 59/300\n",
      "17/17 [==============================] - 1s 74ms/step - loss: 1.2760 - accuracy: 0.6061 - val_loss: 1.2871 - val_accuracy: 0.7121\n",
      "Epoch 60/300\n",
      "17/17 [==============================] - 1s 74ms/step - loss: 1.2729 - accuracy: 0.6061 - val_loss: 1.2665 - val_accuracy: 0.7121\n",
      "Epoch 61/300\n",
      "17/17 [==============================] - 1s 73ms/step - loss: 1.2705 - accuracy: 0.6061 - val_loss: 1.2730 - val_accuracy: 0.7121\n",
      "Epoch 62/300\n",
      "17/17 [==============================] - 1s 73ms/step - loss: 1.2702 - accuracy: 0.6061 - val_loss: 1.2860 - val_accuracy: 0.7121\n",
      "Epoch 63/300\n",
      "17/17 [==============================] - 1s 73ms/step - loss: 1.2718 - accuracy: 0.6061 - val_loss: 1.2754 - val_accuracy: 0.7121\n",
      "Epoch 64/300\n",
      "17/17 [==============================] - 1s 73ms/step - loss: 1.2665 - accuracy: 0.6061 - val_loss: 1.2846 - val_accuracy: 0.7121\n",
      "Epoch 65/300\n",
      "17/17 [==============================] - 1s 75ms/step - loss: 1.2669 - accuracy: 0.6061 - val_loss: 1.2790 - val_accuracy: 0.7121\n",
      "Epoch 66/300\n",
      "17/17 [==============================] - 1s 73ms/step - loss: 1.2613 - accuracy: 0.6061 - val_loss: 1.2705 - val_accuracy: 0.7121\n",
      "Epoch 67/300\n",
      "17/17 [==============================] - 1s 74ms/step - loss: 1.2701 - accuracy: 0.6061 - val_loss: 1.2783 - val_accuracy: 0.7121\n",
      "Epoch 68/300\n",
      "17/17 [==============================] - 1s 73ms/step - loss: 1.2733 - accuracy: 0.6061 - val_loss: 1.2833 - val_accuracy: 0.7121\n",
      "Epoch 69/300\n",
      "17/17 [==============================] - 1s 73ms/step - loss: 1.2717 - accuracy: 0.6061 - val_loss: 1.2739 - val_accuracy: 0.7121\n",
      "Epoch 70/300\n",
      "17/17 [==============================] - 1s 74ms/step - loss: 1.2630 - accuracy: 0.6061 - val_loss: 1.2753 - val_accuracy: 0.7121\n",
      "Epoch 71/300\n",
      "17/17 [==============================] - 1s 73ms/step - loss: 1.2594 - accuracy: 0.6061 - val_loss: 1.2922 - val_accuracy: 0.7121\n",
      "Epoch 72/300\n",
      "17/17 [==============================] - 1s 74ms/step - loss: 1.2579 - accuracy: 0.6061 - val_loss: 1.3049 - val_accuracy: 0.7121\n",
      "Epoch 73/300\n",
      "17/17 [==============================] - 1s 75ms/step - loss: 1.2483 - accuracy: 0.6061 - val_loss: 1.2751 - val_accuracy: 0.7121\n",
      "Epoch 74/300\n",
      "17/17 [==============================] - 1s 74ms/step - loss: 1.2479 - accuracy: 0.6061 - val_loss: 1.2592 - val_accuracy: 0.7121\n",
      "Epoch 75/300\n",
      "17/17 [==============================] - 1s 74ms/step - loss: 1.2497 - accuracy: 0.6061 - val_loss: 1.3037 - val_accuracy: 0.7121\n",
      "Epoch 76/300\n",
      "17/17 [==============================] - 1s 74ms/step - loss: 1.2480 - accuracy: 0.6061 - val_loss: 1.2743 - val_accuracy: 0.7121\n",
      "Epoch 77/300\n",
      "17/17 [==============================] - 1s 73ms/step - loss: 1.2430 - accuracy: 0.6061 - val_loss: 1.2724 - val_accuracy: 0.7121\n",
      "Epoch 78/300\n",
      "17/17 [==============================] - 1s 75ms/step - loss: 1.2444 - accuracy: 0.6061 - val_loss: 1.2976 - val_accuracy: 0.7121\n",
      "Epoch 79/300\n",
      "17/17 [==============================] - 1s 74ms/step - loss: 1.2377 - accuracy: 0.6061 - val_loss: 1.2923 - val_accuracy: 0.7121\n",
      "Epoch 80/300\n",
      "17/17 [==============================] - 1s 74ms/step - loss: 1.2407 - accuracy: 0.6061 - val_loss: 1.2737 - val_accuracy: 0.7121\n",
      "Epoch 81/300\n",
      "17/17 [==============================] - 1s 74ms/step - loss: 1.2344 - accuracy: 0.6061 - val_loss: 1.2975 - val_accuracy: 0.7121\n",
      "Epoch 82/300\n",
      "17/17 [==============================] - 1s 73ms/step - loss: 1.2420 - accuracy: 0.6061 - val_loss: 1.2818 - val_accuracy: 0.7121\n",
      "Epoch 83/300\n",
      "17/17 [==============================] - 1s 73ms/step - loss: 1.2383 - accuracy: 0.6061 - val_loss: 1.2751 - val_accuracy: 0.7121\n",
      "Epoch 84/300\n",
      "17/17 [==============================] - 1s 74ms/step - loss: 1.2304 - accuracy: 0.6061 - val_loss: 1.3217 - val_accuracy: 0.7121\n",
      "Epoch 85/300\n",
      "17/17 [==============================] - 1s 74ms/step - loss: 1.2327 - accuracy: 0.6061 - val_loss: 1.2626 - val_accuracy: 0.7121\n",
      "Epoch 86/300\n",
      "17/17 [==============================] - 1s 75ms/step - loss: 1.2297 - accuracy: 0.6061 - val_loss: 1.2865 - val_accuracy: 0.7121\n",
      "Epoch 87/300\n",
      "17/17 [==============================] - 1s 75ms/step - loss: 1.2314 - accuracy: 0.6061 - val_loss: 1.2872 - val_accuracy: 0.7121\n",
      "Epoch 88/300\n",
      "17/17 [==============================] - 1s 75ms/step - loss: 1.2304 - accuracy: 0.6061 - val_loss: 1.2837 - val_accuracy: 0.7121\n",
      "Epoch 89/300\n",
      "17/17 [==============================] - 1s 74ms/step - loss: 1.2217 - accuracy: 0.6061 - val_loss: 1.2783 - val_accuracy: 0.7121\n",
      "Epoch 90/300\n",
      "17/17 [==============================] - 1s 74ms/step - loss: 1.2184 - accuracy: 0.6061 - val_loss: 1.2854 - val_accuracy: 0.7121\n",
      "Epoch 91/300\n",
      "17/17 [==============================] - 1s 75ms/step - loss: 1.2249 - accuracy: 0.6061 - val_loss: 1.2561 - val_accuracy: 0.7121\n",
      "Epoch 92/300\n",
      "17/17 [==============================] - 1s 74ms/step - loss: 1.2113 - accuracy: 0.6061 - val_loss: 1.3114 - val_accuracy: 0.7121\n",
      "Epoch 93/300\n",
      "17/17 [==============================] - 1s 74ms/step - loss: 1.2133 - accuracy: 0.6061 - val_loss: 1.3154 - val_accuracy: 0.7121\n",
      "Epoch 94/300\n",
      "17/17 [==============================] - 1s 74ms/step - loss: 1.2083 - accuracy: 0.6061 - val_loss: 1.3081 - val_accuracy: 0.7121\n",
      "Epoch 95/300\n",
      "17/17 [==============================] - 1s 74ms/step - loss: 1.2126 - accuracy: 0.6061 - val_loss: 1.2954 - val_accuracy: 0.7121\n",
      "Epoch 96/300\n",
      "17/17 [==============================] - 1s 73ms/step - loss: 1.2002 - accuracy: 0.6061 - val_loss: 1.3222 - val_accuracy: 0.7121\n",
      "Epoch 97/300\n",
      "17/17 [==============================] - 1s 74ms/step - loss: 1.2041 - accuracy: 0.6061 - val_loss: 1.2654 - val_accuracy: 0.7121\n",
      "Epoch 98/300\n",
      "17/17 [==============================] - 1s 75ms/step - loss: 1.2103 - accuracy: 0.6061 - val_loss: 1.3202 - val_accuracy: 0.7121\n",
      "Epoch 99/300\n",
      "17/17 [==============================] - 1s 75ms/step - loss: 1.2061 - accuracy: 0.6098 - val_loss: 1.3030 - val_accuracy: 0.7121\n",
      "Epoch 100/300\n",
      "17/17 [==============================] - 1s 74ms/step - loss: 1.2063 - accuracy: 0.6061 - val_loss: 1.2539 - val_accuracy: 0.7121\n",
      "Epoch 101/300\n",
      "17/17 [==============================] - 1s 74ms/step - loss: 1.2021 - accuracy: 0.6061 - val_loss: 1.3588 - val_accuracy: 0.7121\n",
      "Epoch 102/300\n",
      "17/17 [==============================] - 1s 74ms/step - loss: 1.2090 - accuracy: 0.6061 - val_loss: 1.3107 - val_accuracy: 0.7121\n",
      "Epoch 103/300\n",
      "17/17 [==============================] - 1s 76ms/step - loss: 1.1945 - accuracy: 0.6061 - val_loss: 1.3047 - val_accuracy: 0.7121\n",
      "Epoch 104/300\n",
      "17/17 [==============================] - 1s 75ms/step - loss: 1.1866 - accuracy: 0.6098 - val_loss: 1.2959 - val_accuracy: 0.7121\n",
      "Epoch 105/300\n",
      "17/17 [==============================] - 1s 75ms/step - loss: 1.1963 - accuracy: 0.6061 - val_loss: 1.3063 - val_accuracy: 0.7121\n",
      "Epoch 106/300\n",
      "17/17 [==============================] - 1s 75ms/step - loss: 1.1795 - accuracy: 0.6098 - val_loss: 1.3004 - val_accuracy: 0.7121\n",
      "Epoch 107/300\n",
      "17/17 [==============================] - 1s 75ms/step - loss: 1.2049 - accuracy: 0.6061 - val_loss: 1.3360 - val_accuracy: 0.7121\n",
      "Epoch 108/300\n",
      "17/17 [==============================] - 1s 74ms/step - loss: 1.1920 - accuracy: 0.6061 - val_loss: 1.3108 - val_accuracy: 0.7121\n",
      "Epoch 109/300\n",
      "17/17 [==============================] - 1s 75ms/step - loss: 1.1800 - accuracy: 0.6098 - val_loss: 1.2960 - val_accuracy: 0.7121\n",
      "Epoch 110/300\n",
      "17/17 [==============================] - 1s 75ms/step - loss: 1.1823 - accuracy: 0.6061 - val_loss: 1.3287 - val_accuracy: 0.7121\n",
      "Epoch 111/300\n",
      "17/17 [==============================] - 1s 74ms/step - loss: 1.1777 - accuracy: 0.6061 - val_loss: 1.2901 - val_accuracy: 0.7121\n",
      "Epoch 112/300\n",
      "17/17 [==============================] - 1s 75ms/step - loss: 1.1682 - accuracy: 0.6098 - val_loss: 1.3144 - val_accuracy: 0.7121\n",
      "Epoch 113/300\n",
      "17/17 [==============================] - 1s 75ms/step - loss: 1.1753 - accuracy: 0.6061 - val_loss: 1.3379 - val_accuracy: 0.7121\n",
      "Epoch 114/300\n",
      "17/17 [==============================] - 1s 75ms/step - loss: 1.1681 - accuracy: 0.6061 - val_loss: 1.3197 - val_accuracy: 0.7121\n",
      "Epoch 115/300\n",
      "17/17 [==============================] - 1s 76ms/step - loss: 1.1782 - accuracy: 0.6061 - val_loss: 1.3242 - val_accuracy: 0.7121\n",
      "Epoch 116/300\n",
      "17/17 [==============================] - 1s 75ms/step - loss: 1.1727 - accuracy: 0.6136 - val_loss: 1.3045 - val_accuracy: 0.7121\n",
      "Epoch 117/300\n",
      "17/17 [==============================] - 1s 76ms/step - loss: 1.1720 - accuracy: 0.6136 - val_loss: 1.3319 - val_accuracy: 0.7121\n",
      "Epoch 118/300\n",
      "17/17 [==============================] - 1s 76ms/step - loss: 1.1659 - accuracy: 0.6136 - val_loss: 1.2900 - val_accuracy: 0.7121\n",
      "Epoch 119/300\n",
      "17/17 [==============================] - 1s 76ms/step - loss: 1.1671 - accuracy: 0.6098 - val_loss: 1.3066 - val_accuracy: 0.7121\n",
      "Epoch 120/300\n",
      "17/17 [==============================] - 1s 76ms/step - loss: 1.1607 - accuracy: 0.6136 - val_loss: 1.3305 - val_accuracy: 0.7121\n",
      "Epoch 121/300\n",
      "17/17 [==============================] - 1s 76ms/step - loss: 1.1656 - accuracy: 0.6174 - val_loss: 1.3366 - val_accuracy: 0.7121\n",
      "Epoch 122/300\n",
      "17/17 [==============================] - 1s 77ms/step - loss: 1.1573 - accuracy: 0.6136 - val_loss: 1.2984 - val_accuracy: 0.7121\n",
      "Epoch 123/300\n",
      "17/17 [==============================] - 1s 76ms/step - loss: 1.1519 - accuracy: 0.6061 - val_loss: 1.2917 - val_accuracy: 0.7121\n",
      "Epoch 124/300\n",
      "17/17 [==============================] - 1s 76ms/step - loss: 1.1600 - accuracy: 0.6288 - val_loss: 1.3385 - val_accuracy: 0.7121\n",
      "Epoch 125/300\n",
      "17/17 [==============================] - 1s 75ms/step - loss: 1.1483 - accuracy: 0.6098 - val_loss: 1.3248 - val_accuracy: 0.7121\n",
      "Epoch 126/300\n",
      "17/17 [==============================] - 1s 75ms/step - loss: 1.1567 - accuracy: 0.6136 - val_loss: 1.3692 - val_accuracy: 0.7121\n",
      "Epoch 127/300\n",
      "17/17 [==============================] - 1s 76ms/step - loss: 1.1566 - accuracy: 0.6326 - val_loss: 1.3473 - val_accuracy: 0.7121\n",
      "Epoch 128/300\n",
      "17/17 [==============================] - 1s 76ms/step - loss: 1.1483 - accuracy: 0.6098 - val_loss: 1.3233 - val_accuracy: 0.7121\n",
      "Epoch 129/300\n",
      "17/17 [==============================] - 1s 76ms/step - loss: 1.1500 - accuracy: 0.6288 - val_loss: 1.3276 - val_accuracy: 0.7121\n",
      "Epoch 130/300\n",
      "17/17 [==============================] - 1s 76ms/step - loss: 1.1355 - accuracy: 0.6136 - val_loss: 1.3491 - val_accuracy: 0.7121\n",
      "Epoch 131/300\n",
      "17/17 [==============================] - 1s 76ms/step - loss: 1.1441 - accuracy: 0.6288 - val_loss: 1.3090 - val_accuracy: 0.7121\n",
      "Epoch 132/300\n",
      "17/17 [==============================] - 1s 76ms/step - loss: 1.1457 - accuracy: 0.6212 - val_loss: 1.3176 - val_accuracy: 0.7121\n",
      "Epoch 133/300\n",
      "17/17 [==============================] - 1s 76ms/step - loss: 1.1352 - accuracy: 0.6250 - val_loss: 1.3676 - val_accuracy: 0.7121\n",
      "Epoch 134/300\n",
      "17/17 [==============================] - 1s 76ms/step - loss: 1.1268 - accuracy: 0.6288 - val_loss: 1.3262 - val_accuracy: 0.7121\n",
      "Epoch 135/300\n",
      "17/17 [==============================] - 1s 75ms/step - loss: 1.1342 - accuracy: 0.6326 - val_loss: 1.3070 - val_accuracy: 0.7121\n",
      "Epoch 136/300\n",
      "17/17 [==============================] - 1s 76ms/step - loss: 1.1367 - accuracy: 0.6250 - val_loss: 1.3662 - val_accuracy: 0.7121\n",
      "Epoch 137/300\n",
      "17/17 [==============================] - 1s 77ms/step - loss: 1.1375 - accuracy: 0.6174 - val_loss: 1.3238 - val_accuracy: 0.7121\n",
      "Epoch 138/300\n",
      "17/17 [==============================] - 1s 76ms/step - loss: 1.1320 - accuracy: 0.6364 - val_loss: 1.3275 - val_accuracy: 0.7121\n",
      "Epoch 139/300\n",
      "17/17 [==============================] - 1s 76ms/step - loss: 1.1265 - accuracy: 0.6061 - val_loss: 1.3559 - val_accuracy: 0.7121\n",
      "Epoch 140/300\n",
      "17/17 [==============================] - 1s 77ms/step - loss: 1.1312 - accuracy: 0.6477 - val_loss: 1.3076 - val_accuracy: 0.7121\n",
      "Epoch 141/300\n",
      "17/17 [==============================] - 1s 76ms/step - loss: 1.1114 - accuracy: 0.6250 - val_loss: 1.3792 - val_accuracy: 0.7121\n",
      "Epoch 142/300\n",
      "17/17 [==============================] - 1s 76ms/step - loss: 1.1326 - accuracy: 0.6288 - val_loss: 1.3442 - val_accuracy: 0.7121\n",
      "Epoch 143/300\n",
      "17/17 [==============================] - 1s 76ms/step - loss: 1.1176 - accuracy: 0.6250 - val_loss: 1.3542 - val_accuracy: 0.7121\n",
      "Epoch 144/300\n",
      "17/17 [==============================] - 1s 76ms/step - loss: 1.1156 - accuracy: 0.6477 - val_loss: 1.3587 - val_accuracy: 0.7121\n",
      "Epoch 145/300\n",
      "17/17 [==============================] - 1s 77ms/step - loss: 1.1121 - accuracy: 0.6364 - val_loss: 1.3881 - val_accuracy: 0.7121\n",
      "Epoch 146/300\n",
      "17/17 [==============================] - 1s 76ms/step - loss: 1.1073 - accuracy: 0.6364 - val_loss: 1.3582 - val_accuracy: 0.7121\n",
      "Epoch 147/300\n",
      "17/17 [==============================] - 1s 76ms/step - loss: 1.1118 - accuracy: 0.6288 - val_loss: 1.3367 - val_accuracy: 0.7121\n",
      "Epoch 148/300\n",
      "17/17 [==============================] - 1s 77ms/step - loss: 1.1178 - accuracy: 0.6402 - val_loss: 1.3576 - val_accuracy: 0.7121\n",
      "Epoch 149/300\n",
      "17/17 [==============================] - 1s 76ms/step - loss: 1.1018 - accuracy: 0.6402 - val_loss: 1.3589 - val_accuracy: 0.7121\n",
      "Epoch 150/300\n",
      "17/17 [==============================] - 1s 77ms/step - loss: 1.1199 - accuracy: 0.6288 - val_loss: 1.3863 - val_accuracy: 0.7121\n",
      "Epoch 151/300\n",
      "17/17 [==============================] - 1s 75ms/step - loss: 1.0981 - accuracy: 0.6364 - val_loss: 1.3452 - val_accuracy: 0.7121\n",
      "Epoch 152/300\n",
      "17/17 [==============================] - 1s 77ms/step - loss: 1.1092 - accuracy: 0.6326 - val_loss: 1.3102 - val_accuracy: 0.7121\n",
      "Epoch 153/300\n",
      "17/17 [==============================] - 1s 77ms/step - loss: 1.1192 - accuracy: 0.6402 - val_loss: 1.3741 - val_accuracy: 0.7121\n",
      "Epoch 154/300\n",
      "17/17 [==============================] - 1s 77ms/step - loss: 1.0874 - accuracy: 0.6402 - val_loss: 1.3772 - val_accuracy: 0.7121\n",
      "Epoch 155/300\n",
      "17/17 [==============================] - 1s 77ms/step - loss: 1.0896 - accuracy: 0.6553 - val_loss: 1.3490 - val_accuracy: 0.7121\n",
      "Epoch 156/300\n",
      "17/17 [==============================] - 1s 76ms/step - loss: 1.0966 - accuracy: 0.6439 - val_loss: 1.3515 - val_accuracy: 0.7121\n",
      "Epoch 157/300\n",
      "17/17 [==============================] - 1s 76ms/step - loss: 1.1019 - accuracy: 0.6515 - val_loss: 1.4006 - val_accuracy: 0.7121\n",
      "Epoch 158/300\n",
      "17/17 [==============================] - 1s 77ms/step - loss: 1.0968 - accuracy: 0.6515 - val_loss: 1.3887 - val_accuracy: 0.7121\n",
      "Epoch 159/300\n",
      "17/17 [==============================] - 1s 76ms/step - loss: 1.0920 - accuracy: 0.6326 - val_loss: 1.3667 - val_accuracy: 0.7121\n",
      "Epoch 160/300\n",
      "17/17 [==============================] - 1s 77ms/step - loss: 1.0892 - accuracy: 0.6553 - val_loss: 1.3545 - val_accuracy: 0.7121\n",
      "Epoch 161/300\n",
      "17/17 [==============================] - 1s 78ms/step - loss: 1.0980 - accuracy: 0.6364 - val_loss: 1.3479 - val_accuracy: 0.7121\n",
      "Epoch 162/300\n",
      "17/17 [==============================] - 1s 75ms/step - loss: 1.0826 - accuracy: 0.6553 - val_loss: 1.4028 - val_accuracy: 0.7121\n",
      "Epoch 163/300\n",
      "17/17 [==============================] - 1s 76ms/step - loss: 1.0864 - accuracy: 0.6629 - val_loss: 1.3730 - val_accuracy: 0.7121\n",
      "Epoch 164/300\n",
      "17/17 [==============================] - 1s 78ms/step - loss: 1.0893 - accuracy: 0.6402 - val_loss: 1.3767 - val_accuracy: 0.7121\n",
      "Epoch 165/300\n",
      "17/17 [==============================] - 1s 76ms/step - loss: 1.0797 - accuracy: 0.6629 - val_loss: 1.3953 - val_accuracy: 0.7121\n",
      "Epoch 166/300\n",
      "17/17 [==============================] - 1s 77ms/step - loss: 1.0915 - accuracy: 0.6364 - val_loss: 1.3448 - val_accuracy: 0.7121\n",
      "Epoch 167/300\n",
      "17/17 [==============================] - 1s 79ms/step - loss: 1.0784 - accuracy: 0.6553 - val_loss: 1.3837 - val_accuracy: 0.7121\n",
      "Epoch 168/300\n",
      "17/17 [==============================] - 1s 76ms/step - loss: 1.0849 - accuracy: 0.6591 - val_loss: 1.3986 - val_accuracy: 0.7121\n",
      "Epoch 169/300\n",
      "17/17 [==============================] - 1s 77ms/step - loss: 1.0696 - accuracy: 0.6477 - val_loss: 1.3957 - val_accuracy: 0.7121\n",
      "Epoch 170/300\n",
      "17/17 [==============================] - 1s 77ms/step - loss: 1.0798 - accuracy: 0.6667 - val_loss: 1.3313 - val_accuracy: 0.7121\n",
      "Epoch 171/300\n",
      "17/17 [==============================] - 1s 77ms/step - loss: 1.0723 - accuracy: 0.6553 - val_loss: 1.4543 - val_accuracy: 0.7121\n",
      "Epoch 172/300\n",
      "17/17 [==============================] - 1s 77ms/step - loss: 1.0629 - accuracy: 0.6515 - val_loss: 1.3536 - val_accuracy: 0.7121\n",
      "Epoch 173/300\n",
      "17/17 [==============================] - 1s 76ms/step - loss: 1.0618 - accuracy: 0.6629 - val_loss: 1.3966 - val_accuracy: 0.7121\n",
      "Epoch 174/300\n",
      "17/17 [==============================] - 1s 76ms/step - loss: 1.0583 - accuracy: 0.6591 - val_loss: 1.3521 - val_accuracy: 0.7121\n",
      "Epoch 175/300\n",
      "17/17 [==============================] - 1s 77ms/step - loss: 1.0649 - accuracy: 0.6705 - val_loss: 1.4220 - val_accuracy: 0.7121\n",
      "Epoch 176/300\n",
      "17/17 [==============================] - 1s 78ms/step - loss: 1.0486 - accuracy: 0.6705 - val_loss: 1.3836 - val_accuracy: 0.7121\n",
      "Epoch 177/300\n",
      "17/17 [==============================] - 1s 77ms/step - loss: 1.0600 - accuracy: 0.6439 - val_loss: 1.3868 - val_accuracy: 0.7121\n",
      "Epoch 178/300\n",
      "17/17 [==============================] - 1s 78ms/step - loss: 1.0442 - accuracy: 0.6629 - val_loss: 1.3811 - val_accuracy: 0.7121\n",
      "Epoch 179/300\n",
      "17/17 [==============================] - 1s 77ms/step - loss: 1.0596 - accuracy: 0.6515 - val_loss: 1.3757 - val_accuracy: 0.7121\n",
      "Epoch 180/300\n",
      "17/17 [==============================] - 1s 77ms/step - loss: 1.0521 - accuracy: 0.6439 - val_loss: 1.4141 - val_accuracy: 0.6970\n",
      "Epoch 181/300\n",
      "17/17 [==============================] - 1s 77ms/step - loss: 1.0410 - accuracy: 0.6856 - val_loss: 1.3989 - val_accuracy: 0.7121\n",
      "Epoch 182/300\n",
      "17/17 [==============================] - 1s 78ms/step - loss: 1.0500 - accuracy: 0.6515 - val_loss: 1.4334 - val_accuracy: 0.7121\n",
      "Epoch 183/300\n",
      "17/17 [==============================] - 1s 77ms/step - loss: 1.0407 - accuracy: 0.6742 - val_loss: 1.3872 - val_accuracy: 0.7121\n",
      "Epoch 184/300\n",
      "17/17 [==============================] - 1s 78ms/step - loss: 1.0560 - accuracy: 0.6742 - val_loss: 1.3883 - val_accuracy: 0.7121\n",
      "Epoch 185/300\n",
      "17/17 [==============================] - 1s 76ms/step - loss: 1.0468 - accuracy: 0.6439 - val_loss: 1.4934 - val_accuracy: 0.6818\n",
      "Epoch 186/300\n",
      "17/17 [==============================] - 1s 76ms/step - loss: 1.0341 - accuracy: 0.7045 - val_loss: 1.3624 - val_accuracy: 0.7121\n",
      "Epoch 187/300\n",
      "17/17 [==============================] - 1s 78ms/step - loss: 1.0558 - accuracy: 0.6591 - val_loss: 1.4003 - val_accuracy: 0.7121\n",
      "Epoch 188/300\n",
      "17/17 [==============================] - 1s 77ms/step - loss: 1.0357 - accuracy: 0.6705 - val_loss: 1.4258 - val_accuracy: 0.7121\n",
      "Epoch 189/300\n",
      "17/17 [==============================] - 1s 77ms/step - loss: 1.0354 - accuracy: 0.6742 - val_loss: 1.3728 - val_accuracy: 0.7121\n",
      "Epoch 190/300\n",
      "17/17 [==============================] - 1s 78ms/step - loss: 1.0414 - accuracy: 0.6402 - val_loss: 1.3778 - val_accuracy: 0.7121\n",
      "Epoch 191/300\n",
      "17/17 [==============================] - 1s 77ms/step - loss: 1.0337 - accuracy: 0.6439 - val_loss: 1.4637 - val_accuracy: 0.6970\n",
      "Epoch 192/300\n",
      "17/17 [==============================] - 1s 77ms/step - loss: 1.0302 - accuracy: 0.6742 - val_loss: 1.3805 - val_accuracy: 0.7121\n",
      "Epoch 193/300\n",
      "17/17 [==============================] - 1s 77ms/step - loss: 1.0406 - accuracy: 0.6591 - val_loss: 1.4749 - val_accuracy: 0.6970\n",
      "Epoch 194/300\n",
      "17/17 [==============================] - 1s 77ms/step - loss: 1.0263 - accuracy: 0.6780 - val_loss: 1.3974 - val_accuracy: 0.7121\n",
      "Epoch 195/300\n",
      "17/17 [==============================] - 1s 76ms/step - loss: 1.0193 - accuracy: 0.6629 - val_loss: 1.4807 - val_accuracy: 0.6818\n",
      "Epoch 196/300\n",
      "17/17 [==============================] - 1s 77ms/step - loss: 1.0173 - accuracy: 0.6818 - val_loss: 1.3715 - val_accuracy: 0.7121\n",
      "Epoch 197/300\n",
      "17/17 [==============================] - 1s 78ms/step - loss: 1.0280 - accuracy: 0.6667 - val_loss: 1.4103 - val_accuracy: 0.7121\n",
      "Epoch 198/300\n",
      "17/17 [==============================] - 1s 77ms/step - loss: 1.0101 - accuracy: 0.6553 - val_loss: 1.3832 - val_accuracy: 0.7121\n",
      "Epoch 199/300\n",
      "17/17 [==============================] - 1s 77ms/step - loss: 1.0182 - accuracy: 0.6932 - val_loss: 1.3753 - val_accuracy: 0.7121\n",
      "Epoch 200/300\n",
      "17/17 [==============================] - 1s 78ms/step - loss: 1.0462 - accuracy: 0.6742 - val_loss: 1.4197 - val_accuracy: 0.6818\n",
      "Epoch 201/300\n",
      "17/17 [==============================] - 1s 79ms/step - loss: 1.0095 - accuracy: 0.6742 - val_loss: 1.4033 - val_accuracy: 0.7121\n",
      "Epoch 202/300\n",
      "17/17 [==============================] - 1s 77ms/step - loss: 1.0081 - accuracy: 0.6818 - val_loss: 1.3852 - val_accuracy: 0.7121\n",
      "Epoch 203/300\n",
      "17/17 [==============================] - 1s 78ms/step - loss: 1.0116 - accuracy: 0.6742 - val_loss: 1.4488 - val_accuracy: 0.6970\n",
      "Epoch 204/300\n",
      "17/17 [==============================] - 1s 78ms/step - loss: 1.0104 - accuracy: 0.6780 - val_loss: 1.4441 - val_accuracy: 0.7121\n",
      "Epoch 205/300\n",
      "17/17 [==============================] - 1s 78ms/step - loss: 1.0154 - accuracy: 0.6818 - val_loss: 1.4678 - val_accuracy: 0.7121\n",
      "Epoch 206/300\n",
      "17/17 [==============================] - 1s 78ms/step - loss: 1.0022 - accuracy: 0.6818 - val_loss: 1.3855 - val_accuracy: 0.7121\n",
      "Epoch 207/300\n",
      "17/17 [==============================] - 1s 77ms/step - loss: 1.0189 - accuracy: 0.6629 - val_loss: 1.4306 - val_accuracy: 0.7121\n",
      "Epoch 208/300\n",
      "17/17 [==============================] - 1s 78ms/step - loss: 0.9878 - accuracy: 0.6667 - val_loss: 1.4515 - val_accuracy: 0.7121\n",
      "Epoch 209/300\n",
      "17/17 [==============================] - 1s 77ms/step - loss: 0.9957 - accuracy: 0.6742 - val_loss: 1.4070 - val_accuracy: 0.7121\n",
      "Epoch 210/300\n",
      "17/17 [==============================] - 1s 78ms/step - loss: 0.9958 - accuracy: 0.6705 - val_loss: 1.3913 - val_accuracy: 0.7121\n",
      "Epoch 211/300\n",
      "17/17 [==============================] - 1s 78ms/step - loss: 0.9886 - accuracy: 0.6818 - val_loss: 1.4241 - val_accuracy: 0.7121\n",
      "Epoch 212/300\n",
      "17/17 [==============================] - 1s 79ms/step - loss: 0.9925 - accuracy: 0.6856 - val_loss: 1.3970 - val_accuracy: 0.7121\n",
      "Epoch 213/300\n",
      "17/17 [==============================] - 1s 77ms/step - loss: 0.9982 - accuracy: 0.6705 - val_loss: 1.4223 - val_accuracy: 0.7121\n",
      "Epoch 214/300\n",
      "17/17 [==============================] - 1s 77ms/step - loss: 0.9850 - accuracy: 0.6667 - val_loss: 1.4199 - val_accuracy: 0.7121\n",
      "Epoch 215/300\n",
      "17/17 [==============================] - 1s 78ms/step - loss: 0.9982 - accuracy: 0.6742 - val_loss: 1.4090 - val_accuracy: 0.7121\n",
      "Epoch 216/300\n",
      "17/17 [==============================] - 1s 77ms/step - loss: 0.9918 - accuracy: 0.6818 - val_loss: 1.5091 - val_accuracy: 0.7121\n",
      "Epoch 217/300\n",
      "17/17 [==============================] - 1s 76ms/step - loss: 0.9877 - accuracy: 0.6742 - val_loss: 1.4546 - val_accuracy: 0.7121\n",
      "Epoch 218/300\n",
      "17/17 [==============================] - 1s 77ms/step - loss: 0.9798 - accuracy: 0.6856 - val_loss: 1.3990 - val_accuracy: 0.7121\n",
      "Epoch 219/300\n",
      "17/17 [==============================] - 1s 77ms/step - loss: 0.9860 - accuracy: 0.6742 - val_loss: 1.4605 - val_accuracy: 0.7121\n",
      "Epoch 220/300\n",
      "17/17 [==============================] - 1s 78ms/step - loss: 0.9886 - accuracy: 0.6629 - val_loss: 1.4657 - val_accuracy: 0.7121\n",
      "Epoch 221/300\n",
      "17/17 [==============================] - 1s 78ms/step - loss: 0.9783 - accuracy: 0.7083 - val_loss: 1.4940 - val_accuracy: 0.7121\n",
      "Epoch 222/300\n",
      "17/17 [==============================] - 1s 76ms/step - loss: 0.9638 - accuracy: 0.6932 - val_loss: 1.4848 - val_accuracy: 0.7121\n",
      "Epoch 223/300\n",
      "17/17 [==============================] - 1s 77ms/step - loss: 0.9828 - accuracy: 0.7008 - val_loss: 1.4166 - val_accuracy: 0.7121\n",
      "Epoch 224/300\n",
      "17/17 [==============================] - 1s 78ms/step - loss: 0.9818 - accuracy: 0.6780 - val_loss: 1.5305 - val_accuracy: 0.6970\n",
      "Epoch 225/300\n",
      "17/17 [==============================] - 1s 78ms/step - loss: 0.9745 - accuracy: 0.6894 - val_loss: 1.4854 - val_accuracy: 0.7121\n",
      "Epoch 226/300\n",
      "17/17 [==============================] - 1s 78ms/step - loss: 0.9738 - accuracy: 0.6932 - val_loss: 1.4343 - val_accuracy: 0.7121\n",
      "Epoch 227/300\n",
      "17/17 [==============================] - 1s 76ms/step - loss: 0.9775 - accuracy: 0.7008 - val_loss: 1.4206 - val_accuracy: 0.7121\n",
      "Epoch 228/300\n",
      "17/17 [==============================] - 1s 77ms/step - loss: 0.9723 - accuracy: 0.6970 - val_loss: 1.4554 - val_accuracy: 0.7121\n",
      "Epoch 229/300\n",
      "17/17 [==============================] - 1s 78ms/step - loss: 0.9731 - accuracy: 0.6932 - val_loss: 1.4843 - val_accuracy: 0.7121\n",
      "Epoch 230/300\n",
      "17/17 [==============================] - 1s 79ms/step - loss: 0.9540 - accuracy: 0.7008 - val_loss: 1.3839 - val_accuracy: 0.7121\n",
      "Epoch 231/300\n",
      "17/17 [==============================] - 1s 79ms/step - loss: 0.9587 - accuracy: 0.7045 - val_loss: 1.4788 - val_accuracy: 0.7121\n",
      "Epoch 232/300\n",
      "17/17 [==============================] - 1s 79ms/step - loss: 0.9635 - accuracy: 0.6705 - val_loss: 1.5006 - val_accuracy: 0.6970\n",
      "Epoch 233/300\n",
      "17/17 [==============================] - 1s 79ms/step - loss: 0.9764 - accuracy: 0.6856 - val_loss: 1.4400 - val_accuracy: 0.7121\n",
      "Epoch 234/300\n",
      "17/17 [==============================] - 1s 79ms/step - loss: 0.9581 - accuracy: 0.6894 - val_loss: 1.4483 - val_accuracy: 0.7121\n",
      "Epoch 235/300\n",
      "17/17 [==============================] - 1s 78ms/step - loss: 0.9591 - accuracy: 0.6818 - val_loss: 1.4501 - val_accuracy: 0.7121\n",
      "Epoch 236/300\n",
      "17/17 [==============================] - 1s 78ms/step - loss: 0.9510 - accuracy: 0.7083 - val_loss: 1.4767 - val_accuracy: 0.6970\n",
      "Epoch 237/300\n",
      "17/17 [==============================] - 1s 78ms/step - loss: 0.9455 - accuracy: 0.7045 - val_loss: 1.4187 - val_accuracy: 0.7121\n",
      "Epoch 238/300\n",
      "17/17 [==============================] - 1s 79ms/step - loss: 0.9556 - accuracy: 0.7008 - val_loss: 1.5223 - val_accuracy: 0.7121\n",
      "Epoch 239/300\n",
      "17/17 [==============================] - 1s 78ms/step - loss: 0.9329 - accuracy: 0.7121 - val_loss: 1.4288 - val_accuracy: 0.7121\n",
      "Epoch 240/300\n",
      "17/17 [==============================] - 1s 77ms/step - loss: 0.9391 - accuracy: 0.7121 - val_loss: 1.4859 - val_accuracy: 0.7121\n",
      "Epoch 241/300\n",
      "17/17 [==============================] - 1s 78ms/step - loss: 0.9375 - accuracy: 0.7008 - val_loss: 1.3834 - val_accuracy: 0.7121\n",
      "Epoch 242/300\n",
      "17/17 [==============================] - 1s 77ms/step - loss: 0.9494 - accuracy: 0.6856 - val_loss: 1.5180 - val_accuracy: 0.6970\n",
      "Epoch 243/300\n",
      "17/17 [==============================] - 1s 78ms/step - loss: 0.9466 - accuracy: 0.6970 - val_loss: 1.5042 - val_accuracy: 0.7121\n",
      "Epoch 244/300\n",
      "17/17 [==============================] - 1s 78ms/step - loss: 0.9415 - accuracy: 0.7083 - val_loss: 1.4624 - val_accuracy: 0.7121\n",
      "Epoch 245/300\n",
      "17/17 [==============================] - 1s 77ms/step - loss: 0.9329 - accuracy: 0.6742 - val_loss: 1.5369 - val_accuracy: 0.6970\n",
      "Epoch 246/300\n",
      "17/17 [==============================] - 1s 78ms/step - loss: 0.9425 - accuracy: 0.6932 - val_loss: 1.4489 - val_accuracy: 0.7121\n",
      "Epoch 247/300\n",
      "17/17 [==============================] - 1s 77ms/step - loss: 0.9307 - accuracy: 0.7045 - val_loss: 1.5144 - val_accuracy: 0.7121\n",
      "Epoch 248/300\n",
      "17/17 [==============================] - 1s 78ms/step - loss: 0.9323 - accuracy: 0.6932 - val_loss: 1.4811 - val_accuracy: 0.6818\n",
      "Epoch 249/300\n",
      "17/17 [==============================] - 1s 78ms/step - loss: 0.9445 - accuracy: 0.7045 - val_loss: 1.5399 - val_accuracy: 0.7121\n",
      "Epoch 250/300\n",
      "17/17 [==============================] - 1s 78ms/step - loss: 0.9411 - accuracy: 0.6932 - val_loss: 1.4821 - val_accuracy: 0.6970\n",
      "Epoch 251/300\n",
      "17/17 [==============================] - 1s 78ms/step - loss: 0.9340 - accuracy: 0.7197 - val_loss: 1.4623 - val_accuracy: 0.7121\n",
      "Epoch 252/300\n",
      "17/17 [==============================] - 1s 79ms/step - loss: 0.9271 - accuracy: 0.7235 - val_loss: 1.4705 - val_accuracy: 0.6970\n",
      "Epoch 253/300\n",
      "17/17 [==============================] - 1s 77ms/step - loss: 0.9177 - accuracy: 0.6970 - val_loss: 1.4231 - val_accuracy: 0.7121\n",
      "Epoch 254/300\n",
      "17/17 [==============================] - 1s 78ms/step - loss: 0.9236 - accuracy: 0.6932 - val_loss: 1.5232 - val_accuracy: 0.6818\n",
      "Epoch 255/300\n",
      "17/17 [==============================] - 1s 78ms/step - loss: 0.9176 - accuracy: 0.7121 - val_loss: 1.5354 - val_accuracy: 0.6970\n",
      "Epoch 256/300\n",
      "17/17 [==============================] - 1s 77ms/step - loss: 0.9266 - accuracy: 0.7008 - val_loss: 1.5321 - val_accuracy: 0.7121\n",
      "Epoch 257/300\n",
      "17/17 [==============================] - 1s 77ms/step - loss: 0.9135 - accuracy: 0.7121 - val_loss: 1.4903 - val_accuracy: 0.6818\n",
      "Epoch 258/300\n",
      "17/17 [==============================] - 1s 78ms/step - loss: 0.9176 - accuracy: 0.7083 - val_loss: 1.4898 - val_accuracy: 0.7121\n",
      "Epoch 259/300\n",
      "17/17 [==============================] - 1s 77ms/step - loss: 0.9236 - accuracy: 0.7083 - val_loss: 1.4882 - val_accuracy: 0.6970\n",
      "Epoch 260/300\n",
      "17/17 [==============================] - 1s 77ms/step - loss: 0.9159 - accuracy: 0.7083 - val_loss: 1.4743 - val_accuracy: 0.7121\n",
      "Epoch 261/300\n",
      "17/17 [==============================] - 1s 78ms/step - loss: 0.9095 - accuracy: 0.7083 - val_loss: 1.4961 - val_accuracy: 0.6818\n",
      "Epoch 262/300\n",
      "17/17 [==============================] - 1s 78ms/step - loss: 0.9145 - accuracy: 0.7045 - val_loss: 1.5100 - val_accuracy: 0.7121\n",
      "Epoch 263/300\n",
      "17/17 [==============================] - 1s 78ms/step - loss: 0.8975 - accuracy: 0.7235 - val_loss: 1.5288 - val_accuracy: 0.6818\n",
      "Epoch 264/300\n",
      "17/17 [==============================] - 1s 78ms/step - loss: 0.9237 - accuracy: 0.6818 - val_loss: 1.4960 - val_accuracy: 0.6818\n",
      "Epoch 265/300\n",
      "17/17 [==============================] - 1s 77ms/step - loss: 0.9054 - accuracy: 0.7083 - val_loss: 1.4334 - val_accuracy: 0.7121\n",
      "Epoch 266/300\n",
      "17/17 [==============================] - 1s 78ms/step - loss: 0.9065 - accuracy: 0.7121 - val_loss: 1.5254 - val_accuracy: 0.6970\n",
      "Epoch 267/300\n",
      "17/17 [==============================] - 1s 79ms/step - loss: 0.9159 - accuracy: 0.7045 - val_loss: 1.4738 - val_accuracy: 0.6970\n",
      "Epoch 268/300\n",
      "17/17 [==============================] - 1s 79ms/step - loss: 0.9009 - accuracy: 0.7235 - val_loss: 1.5094 - val_accuracy: 0.7121\n",
      "Epoch 269/300\n",
      "17/17 [==============================] - 1s 78ms/step - loss: 0.9006 - accuracy: 0.7197 - val_loss: 1.4883 - val_accuracy: 0.7121\n",
      "Epoch 270/300\n",
      "17/17 [==============================] - 1s 78ms/step - loss: 0.9097 - accuracy: 0.6970 - val_loss: 1.5108 - val_accuracy: 0.7121\n",
      "Epoch 271/300\n",
      "17/17 [==============================] - 1s 79ms/step - loss: 0.9198 - accuracy: 0.6932 - val_loss: 1.4728 - val_accuracy: 0.7121\n",
      "Epoch 272/300\n",
      "17/17 [==============================] - 1s 78ms/step - loss: 0.8923 - accuracy: 0.7311 - val_loss: 1.5516 - val_accuracy: 0.6970\n",
      "Epoch 273/300\n",
      "17/17 [==============================] - 1s 78ms/step - loss: 0.8986 - accuracy: 0.7083 - val_loss: 1.4300 - val_accuracy: 0.7121\n",
      "Epoch 274/300\n",
      "17/17 [==============================] - 1s 78ms/step - loss: 0.8896 - accuracy: 0.7121 - val_loss: 1.5682 - val_accuracy: 0.6970\n",
      "Epoch 275/300\n",
      "17/17 [==============================] - 1s 79ms/step - loss: 0.8874 - accuracy: 0.7083 - val_loss: 1.4915 - val_accuracy: 0.7121\n",
      "Epoch 276/300\n",
      "17/17 [==============================] - 1s 79ms/step - loss: 0.8800 - accuracy: 0.7197 - val_loss: 1.5026 - val_accuracy: 0.7121\n",
      "Epoch 277/300\n",
      "17/17 [==============================] - 1s 79ms/step - loss: 0.8974 - accuracy: 0.7159 - val_loss: 1.5147 - val_accuracy: 0.7121\n",
      "Epoch 278/300\n",
      "17/17 [==============================] - 1s 79ms/step - loss: 0.8866 - accuracy: 0.7159 - val_loss: 1.4966 - val_accuracy: 0.7121\n",
      "Epoch 279/300\n",
      "17/17 [==============================] - 1s 78ms/step - loss: 0.9008 - accuracy: 0.7121 - val_loss: 1.5180 - val_accuracy: 0.6970\n",
      "Epoch 280/300\n",
      "17/17 [==============================] - 1s 79ms/step - loss: 0.8851 - accuracy: 0.7008 - val_loss: 1.5154 - val_accuracy: 0.6515\n",
      "Epoch 281/300\n",
      "17/17 [==============================] - 1s 78ms/step - loss: 0.9190 - accuracy: 0.7083 - val_loss: 1.5245 - val_accuracy: 0.7121\n",
      "Epoch 282/300\n",
      "17/17 [==============================] - 1s 79ms/step - loss: 0.8990 - accuracy: 0.7121 - val_loss: 1.4817 - val_accuracy: 0.7121\n",
      "Epoch 283/300\n",
      "17/17 [==============================] - 1s 78ms/step - loss: 0.9114 - accuracy: 0.7045 - val_loss: 1.5650 - val_accuracy: 0.7121\n",
      "Epoch 284/300\n",
      "17/17 [==============================] - 1s 78ms/step - loss: 0.8911 - accuracy: 0.7235 - val_loss: 1.4863 - val_accuracy: 0.6970\n",
      "Epoch 285/300\n",
      "17/17 [==============================] - 1s 78ms/step - loss: 0.8662 - accuracy: 0.7159 - val_loss: 1.5821 - val_accuracy: 0.7121\n",
      "Epoch 286/300\n",
      "17/17 [==============================] - 1s 78ms/step - loss: 0.8722 - accuracy: 0.7311 - val_loss: 1.5560 - val_accuracy: 0.6818\n",
      "Epoch 287/300\n",
      "17/17 [==============================] - 1s 78ms/step - loss: 0.8761 - accuracy: 0.7159 - val_loss: 1.4689 - val_accuracy: 0.7121\n",
      "Epoch 288/300\n",
      "17/17 [==============================] - 1s 79ms/step - loss: 0.8505 - accuracy: 0.7348 - val_loss: 1.5245 - val_accuracy: 0.7121\n",
      "Epoch 289/300\n",
      "17/17 [==============================] - 1s 78ms/step - loss: 0.8808 - accuracy: 0.7045 - val_loss: 1.5183 - val_accuracy: 0.6667\n",
      "Epoch 290/300\n",
      "17/17 [==============================] - 1s 78ms/step - loss: 0.8626 - accuracy: 0.7197 - val_loss: 1.4179 - val_accuracy: 0.7121\n",
      "Epoch 291/300\n",
      "17/17 [==============================] - 1s 78ms/step - loss: 0.8518 - accuracy: 0.7348 - val_loss: 1.6302 - val_accuracy: 0.6667\n",
      "Epoch 292/300\n",
      "17/17 [==============================] - 1s 78ms/step - loss: 0.8556 - accuracy: 0.7197 - val_loss: 1.4570 - val_accuracy: 0.7121\n",
      "Epoch 293/300\n",
      "17/17 [==============================] - 1s 79ms/step - loss: 0.8517 - accuracy: 0.7311 - val_loss: 1.5709 - val_accuracy: 0.7121\n",
      "Epoch 294/300\n",
      "17/17 [==============================] - 1s 79ms/step - loss: 0.8682 - accuracy: 0.7045 - val_loss: 1.5318 - val_accuracy: 0.6515\n",
      "Epoch 295/300\n",
      "17/17 [==============================] - 1s 79ms/step - loss: 0.8654 - accuracy: 0.7159 - val_loss: 1.5949 - val_accuracy: 0.7121\n",
      "Epoch 296/300\n",
      "17/17 [==============================] - 1s 79ms/step - loss: 0.8526 - accuracy: 0.7311 - val_loss: 1.4784 - val_accuracy: 0.7121\n",
      "Epoch 297/300\n",
      "17/17 [==============================] - 1s 77ms/step - loss: 0.8654 - accuracy: 0.7235 - val_loss: 1.5329 - val_accuracy: 0.6970\n",
      "Epoch 298/300\n",
      "17/17 [==============================] - 1s 78ms/step - loss: 0.8577 - accuracy: 0.7386 - val_loss: 1.5681 - val_accuracy: 0.7121\n",
      "Epoch 299/300\n",
      "17/17 [==============================] - 1s 78ms/step - loss: 0.8447 - accuracy: 0.7197 - val_loss: 1.5549 - val_accuracy: 0.6667\n",
      "Epoch 300/300\n",
      "17/17 [==============================] - 1s 78ms/step - loss: 0.8601 - accuracy: 0.7083 - val_loss: 1.5035 - val_accuracy: 0.6818\n"
     ]
    }
   ],
   "source": [
    "history = model.fit(training_data, epochs = 300, validation_data = validation_data, )"
   ]
  },
  {
   "cell_type": "code",
   "execution_count": null,
   "metadata": {
    "colab": {
     "base_uri": "https://localhost:8080/",
     "height": 730
    },
    "colab_type": "code",
    "id": "RLdBV2ERn1Ih",
    "outputId": "27263bbb-d2bb-4e5b-bb76-c967409a4784"
   },
   "outputs": [
    {
     "data": {
      "image/png": "[encoded data removed]",
      "text/plain": [
       "<Figure size 720x864 with 2 Axes>"
      ]
     },
     "metadata": {
      "needs_background": "light",
      "tags": []
     },
     "output_type": "display_data"
    }
   ],
   "source": [
    "loss = history.history['loss']\n",
    "val_loss = history.history['val_loss']\n",
    "\n",
    "acc = history.history['accuracy']\n",
    "val_acc = history.history['val_accuracy']\n",
    "\n",
    "plt.figure(figsize=(10,12))\n",
    "plt.subplot(2, 1, 1)\n",
    "plt.plot(acc, label='Training accuracy')\n",
    "plt.plot(val_acc, label='Validation accuracy')\n",
    "plt.legend(loc='lower right')\n",
    "plt.xlabel('Epoch')\n",
    "plt.ylabel('Accuracy')\n",
    "plt.ylim([0,1])\n",
    "plt.title(\"Training and Validation Accuracy\")\n",
    "\n",
    "plt.subplot(2, 1, 2)\n",
    "plt.plot(loss, label='Training loss')\n",
    "plt.plot(val_loss, label='Validation loss')\n",
    "plt.legend(loc='lower right')\n",
    "plt.xlabel('Epoch')\n",
    "plt.ylabel('loss')\n",
    "plt.title(\"Training and Validation loss\")\n",
    "plt.show()"
   ]
  },
  {
   "cell_type": "code",
   "execution_count": null,
   "metadata": {
    "colab": {},
    "colab_type": "code",
    "id": "sQm6Xu5xftU3"
   },
   "outputs": [],
   "source": [
    "model.save(\"test2.h5\")"
   ]
  },
  {
   "cell_type": "code",
   "execution_count": null,
   "metadata": {
    "colab": {},
    "colab_type": "code",
    "id": "RMamBv8FdINb"
   },
   "outputs": [],
   "source": []
  }
 ],
 "metadata": {
  "accelerator": "GPU",
  "colab": {
   "collapsed_sections": [],
   "name": "BreastCancerDetection.ipynb",
   "provenance": [],
   "toc_visible": true
  },
  "kernelspec": {
   "display_name": "Python 3",
   "language": "python",
   "name": "python3"
  },
  "language_info": {
   "codemirror_mode": {
    "name": "ipython",
    "version": 3
   },
   "file_extension": ".py",
   "mimetype": "text/x-python",
   "name": "python",
   "nbconvert_exporter": "python",
   "pygments_lexer": "ipython3",
   "version": "3.8.3"
  }
 },
 "nbformat": 4,
 "nbformat_minor": 1
}
